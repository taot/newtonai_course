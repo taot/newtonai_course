{
 "cells": [
  {
   "cell_type": "markdown",
   "id": "096ac818-59de-43eb-9085-591aa515f8bc",
   "metadata": {},
   "source": [
    "# Test"
   ]
  },
  {
   "cell_type": "code",
   "execution_count": 3,
   "id": "9330fb10-733e-4acd-bf80-be84ba9de3ea",
   "metadata": {},
   "outputs": [
    {
     "data": {
      "application/vnd.jupyter.widget-view+json": {
       "model_id": "b96a573060db45f5b715204886edbf11",
       "version_major": 2,
       "version_minor": 0
      },
      "text/plain": [
       "Loading checkpoint shards:   0%|          | 0/2 [00:00<?, ?it/s]"
      ]
     },
     "metadata": {},
     "output_type": "display_data"
    },
    {
     "name": "stderr",
     "output_type": "stream",
     "text": [
      "Device set to use cuda:0\n",
      "Setting `pad_token_id` to `eos_token_id`:128001 for open-end generation.\n"
     ]
    },
    {
     "data": {
      "text/plain": [
       "[{'generated_text': [{'role': 'user', 'content': 'Who are you?'},\n",
       "   {'role': 'assistant',\n",
       "    'content': 'I\\'m an artificial intelligence model known as Llama. Llama stands for \"Large Language Model Meta AI.\"'}]}]"
      ]
     },
     "execution_count": 3,
     "metadata": {},
     "output_type": "execute_result"
    }
   ],
   "source": [
    "# Use a pipeline as a high-level helper\n",
    "from transformers import pipeline\n",
    "\n",
    "pipe = pipeline(\"text-generation\", model=\"meta-llama/Llama-3.2-3B-Instruct\")\n",
    "messages = [\n",
    "    {\"role\": \"user\", \"content\": \"Who are you?\"},\n",
    "]\n",
    "pipe(messages)"
   ]
  },
  {
   "cell_type": "markdown",
   "id": "438b2ab7-b5ad-4410-abbb-c18bdf4abd5d",
   "metadata": {},
   "source": [
    "# 分词器 Tokenizer"
   ]
  },
  {
   "cell_type": "code",
   "execution_count": 4,
   "id": "e15ed149-fa8e-42b1-9a38-f0f1b68f1ab2",
   "metadata": {},
   "outputs": [],
   "source": [
    "import json\n",
    "import matplotlib.pyplot as plt\n",
    "\n",
    "from pathlib import Path\n",
    "import torch\n",
    "from transformers import AutoModel, AutoTokenizer, AutoModelForCausalLM"
   ]
  },
  {
   "cell_type": "code",
   "execution_count": 5,
   "id": "6c213f05-a50b-4ed2-8a8e-e7bb47d10821",
   "metadata": {},
   "outputs": [],
   "source": [
    "MODLE_BASE_DIR = \"/workspace/.hf_home/hub/models--meta-llama--Llama-3.2-3B-Instruct/snapshots/0cb88a4f764b7a12671c53f0838cd831a0843b95\""
   ]
  },
  {
   "cell_type": "code",
   "execution_count": 6,
   "id": "4d826713-ef2f-462b-bff2-762eeb70b679",
   "metadata": {},
   "outputs": [],
   "source": [
    "model_path = MODLE_BASE_DIR\n",
    "device = torch.device(\"cuda\" if torch.cuda.is_available else \"cpu\")\n",
    "torch_dtype = torch.bfloat16"
   ]
  },
  {
   "cell_type": "code",
   "execution_count": 7,
   "id": "2b7700d4-7fa8-4e48-9412-7c1998a57878",
   "metadata": {},
   "outputs": [],
   "source": [
    "tokenizer = AutoTokenizer.from_pretrained(model_path)"
   ]
  },
  {
   "cell_type": "markdown",
   "id": "49de51f2-51e3-4c8c-b72c-42614405fe0c",
   "metadata": {},
   "source": [
    "# 读取模型文件"
   ]
  },
  {
   "cell_type": "code",
   "execution_count": 8,
   "id": "32ca2e59-eed7-4e04-a0aa-ee6a790b5908",
   "metadata": {},
   "outputs": [
    {
     "name": "stderr",
     "output_type": "stream",
     "text": [
      "`torch_dtype` is deprecated! Use `dtype` instead!\n"
     ]
    },
    {
     "data": {
      "application/vnd.jupyter.widget-view+json": {
       "model_id": "2499eb6a598f4dcc8d4c956674976539",
       "version_major": 2,
       "version_minor": 0
      },
      "text/plain": [
       "Loading checkpoint shards:   0%|          | 0/2 [00:00<?, ?it/s]"
      ]
     },
     "metadata": {},
     "output_type": "display_data"
    },
    {
     "data": {
      "text/plain": [
       "LlamaForCausalLM(\n",
       "  (model): LlamaModel(\n",
       "    (embed_tokens): Embedding(128256, 3072)\n",
       "    (layers): ModuleList(\n",
       "      (0-27): 28 x LlamaDecoderLayer(\n",
       "        (self_attn): LlamaAttention(\n",
       "          (q_proj): Linear(in_features=3072, out_features=3072, bias=False)\n",
       "          (k_proj): Linear(in_features=3072, out_features=1024, bias=False)\n",
       "          (v_proj): Linear(in_features=3072, out_features=1024, bias=False)\n",
       "          (o_proj): Linear(in_features=3072, out_features=3072, bias=False)\n",
       "        )\n",
       "        (mlp): LlamaMLP(\n",
       "          (gate_proj): Linear(in_features=3072, out_features=8192, bias=False)\n",
       "          (up_proj): Linear(in_features=3072, out_features=8192, bias=False)\n",
       "          (down_proj): Linear(in_features=8192, out_features=3072, bias=False)\n",
       "          (act_fn): SiLU()\n",
       "        )\n",
       "        (input_layernorm): LlamaRMSNorm((3072,), eps=1e-05)\n",
       "        (post_attention_layernorm): LlamaRMSNorm((3072,), eps=1e-05)\n",
       "      )\n",
       "    )\n",
       "    (norm): LlamaRMSNorm((3072,), eps=1e-05)\n",
       "    (rotary_emb): LlamaRotaryEmbedding()\n",
       "  )\n",
       "  (lm_head): Linear(in_features=3072, out_features=128256, bias=False)\n",
       ")"
      ]
     },
     "execution_count": 8,
     "metadata": {},
     "output_type": "execute_result"
    }
   ],
   "source": [
    "model_m = AutoModelForCausalLM.from_pretrained(model_path, torch_dtype=torch_dtype)\n",
    "model_m.to(device)"
   ]
  },
  {
   "cell_type": "code",
   "execution_count": 9,
   "id": "b2fb7b5a-cadd-4533-92fa-2ecd3fa412bf",
   "metadata": {},
   "outputs": [],
   "source": [
    "model = model_m.state_dict()"
   ]
  },
  {
   "cell_type": "code",
   "execution_count": 10,
   "id": "227b6cb1-c163-4262-a6d3-3bcaa7f6587a",
   "metadata": {},
   "outputs": [
    {
     "name": "stdout",
     "output_type": "stream",
     "text": [
      "{\n",
      "    \"_name_or_path\": \"/workspace/.hf_home/hub/models--meta-llama--Llama-3.2-3B-Instruct/snapshots/0cb88a4f764b7a12671c53f0838cd831a0843b95\",\n",
      "    \"add_cross_attention\": false,\n",
      "    \"architectures\": [\n",
      "        \"LlamaForCausalLM\"\n",
      "    ],\n",
      "    \"attention_bias\": false,\n",
      "    \"attention_dropout\": 0.0,\n",
      "    \"bad_words_ids\": null,\n",
      "    \"begin_suppress_tokens\": null,\n",
      "    \"bos_token_id\": 128000,\n",
      "    \"chunk_size_feed_forward\": 0,\n",
      "    \"cross_attention_hidden_size\": null,\n",
      "    \"decoder_start_token_id\": null,\n",
      "    \"diversity_penalty\": 0.0,\n",
      "    \"do_sample\": false,\n",
      "    \"dtype\": \"bfloat16\",\n",
      "    \"early_stopping\": false,\n",
      "    \"encoder_no_repeat_ngram_size\": 0,\n",
      "    \"eos_token_id\": [\n",
      "        128001,\n",
      "        128008,\n",
      "        128009\n",
      "    ],\n",
      "    \"exponential_decay_length_penalty\": null,\n",
      "    \"finetuning_task\": null,\n",
      "    \"forced_bos_token_id\": null,\n",
      "    \"forced_eos_token_id\": null,\n",
      "    \"head_dim\": 128,\n",
      "    \"hidden_act\": \"silu\",\n",
      "    \"hidden_size\": 3072,\n",
      "    \"id2label\": {\n",
      "        \"0\": \"LABEL_0\",\n",
      "        \"1\": \"LABEL_1\"\n",
      "    },\n",
      "    \"initializer_range\": 0.02,\n",
      "    \"intermediate_size\": 8192,\n",
      "    \"is_decoder\": false,\n",
      "    \"is_encoder_decoder\": false,\n",
      "    \"label2id\": {\n",
      "        \"LABEL_0\": 0,\n",
      "        \"LABEL_1\": 1\n",
      "    },\n",
      "    \"length_penalty\": 1.0,\n",
      "    \"max_length\": 20,\n",
      "    \"max_position_embeddings\": 131072,\n",
      "    \"min_length\": 0,\n",
      "    \"mlp_bias\": false,\n",
      "    \"model_type\": \"llama\",\n",
      "    \"no_repeat_ngram_size\": 0,\n",
      "    \"num_attention_heads\": 24,\n",
      "    \"num_beam_groups\": 1,\n",
      "    \"num_beams\": 1,\n",
      "    \"num_hidden_layers\": 28,\n",
      "    \"num_key_value_heads\": 8,\n",
      "    \"num_return_sequences\": 1,\n",
      "    \"output_attentions\": false,\n",
      "    \"output_hidden_states\": false,\n",
      "    \"output_scores\": false,\n",
      "    \"pad_token_id\": null,\n",
      "    \"prefix\": null,\n",
      "    \"pretraining_tp\": 1,\n",
      "    \"problem_type\": null,\n",
      "    \"pruned_heads\": {},\n",
      "    \"remove_invalid_values\": false,\n",
      "    \"repetition_penalty\": 1.0,\n",
      "    \"return_dict\": true,\n",
      "    \"return_dict_in_generate\": false,\n",
      "    \"rms_norm_eps\": 1e-05,\n",
      "    \"rope_scaling\": {\n",
      "        \"factor\": 32.0,\n",
      "        \"high_freq_factor\": 4.0,\n",
      "        \"low_freq_factor\": 1.0,\n",
      "        \"original_max_position_embeddings\": 8192,\n",
      "        \"rope_type\": \"llama3\"\n",
      "    },\n",
      "    \"rope_theta\": 500000.0,\n",
      "    \"sep_token_id\": null,\n",
      "    \"suppress_tokens\": null,\n",
      "    \"task_specific_params\": null,\n",
      "    \"temperature\": 1.0,\n",
      "    \"tf_legacy_loss\": false,\n",
      "    \"tie_encoder_decoder\": false,\n",
      "    \"tie_word_embeddings\": true,\n",
      "    \"tokenizer_class\": null,\n",
      "    \"top_k\": 50,\n",
      "    \"top_p\": 1.0,\n",
      "    \"torchscript\": false,\n",
      "    \"transformers_version\": \"4.56.1\",\n",
      "    \"typical_p\": 1.0,\n",
      "    \"use_bfloat16\": false,\n",
      "    \"use_cache\": true,\n",
      "    \"vocab_size\": 128256\n",
      "}\n"
     ]
    }
   ],
   "source": [
    "# 模型配置参数\n",
    "config = model_m.config.to_dict()\n",
    "print(json.dumps(dict(sorted(config.items())), indent=4))"
   ]
  },
  {
   "cell_type": "code",
   "execution_count": 11,
   "id": "cb5a5486-3cdf-4c1f-adc1-85aa739420ee",
   "metadata": {},
   "outputs": [],
   "source": [
    "dim = config[\"hidden_size\"]\n",
    "n_layers = config[\"num_hidden_layers\"]\n",
    "n_heads = config[\"num_attention_heads\"]\n",
    "n_kv_heads = config[\"num_key_value_heads\"]\n",
    "vocab_size = config[\"vocab_size\"]\n",
    "norm_eps = config[\"rms_norm_eps\"]\n",
    "rope_theta = torch.tensor(config[\"rope_theta\"])\n",
    "\n",
    "group_heads = n_heads // n_kv_heads\n",
    "dk = dim // n_heads"
   ]
  },
  {
   "cell_type": "markdown",
   "id": "0f730687-4be3-4bd6-a6a0-7c98d0a3762a",
   "metadata": {},
   "source": [
    "# 文本分词编码"
   ]
  },
  {
   "cell_type": "code",
   "execution_count": 12,
   "id": "0dac52c0-b566-42f0-b5b2-e6ebdd8ec32f",
   "metadata": {},
   "outputs": [],
   "source": [
    "prompt = \"测试中，用中文说成语，前程似锦，金榜题\"\n",
    "# prompt = \"中华人民万\"\n",
    "# prompt = \"星期\""
   ]
  },
  {
   "cell_type": "code",
   "execution_count": 13,
   "id": "fa02b5db-2e64-45bc-9ae1-f903aae2c097",
   "metadata": {},
   "outputs": [
    {
     "name": "stdout",
     "output_type": "stream",
     "text": [
      "[128000, 82805, 16325, 119977, 108891, 37687, 13153, 73981, 3922, 25580, 39607, 104409, 127999, 3922, 35330, 121272, 34972]\n"
     ]
    }
   ],
   "source": [
    "tokens = tokenizer.encode(prompt, add_special_tokens=True)\n",
    "print(tokens)\n",
    "tokens = torch.tensor(tokens)"
   ]
  },
  {
   "cell_type": "code",
   "execution_count": 14,
   "id": "6a8c4705-9aaf-4ac9-859a-ff2831cb33c7",
   "metadata": {},
   "outputs": [
    {
     "name": "stdout",
     "output_type": "stream",
     "text": [
      "['<|begin_of_text|>', '测试', '中', '，用', '中文', '说', '成', '语', '，', '前', '程', '似', '锦', '，', '金', '榜', '题']\n"
     ]
    }
   ],
   "source": [
    "prompt_split_as_tokens = [tokenizer.decode([token.item()]) for token in tokens]\n",
    "print(prompt_split_as_tokens)"
   ]
  },
  {
   "cell_type": "markdown",
   "id": "de03e1c9-c989-4126-b484-d9ff880b3f19",
   "metadata": {},
   "source": [
    "# Token embedding 嵌入"
   ]
  },
  {
   "cell_type": "code",
   "execution_count": 15,
   "id": "eb3d14b4-b426-4b6c-b124-b4187fb4de39",
   "metadata": {},
   "outputs": [],
   "source": [
    "# 最后输出的全连接层\n",
    "lm_head = model[\"lm_head.weight\"]"
   ]
  },
  {
   "cell_type": "code",
   "execution_count": 16,
   "id": "c700589c-18e2-4f2c-846f-70b00874a665",
   "metadata": {},
   "outputs": [
    {
     "data": {
      "text/plain": [
       "tensor([[ 1.1292e-02,  9.9487e-03,  1.4160e-02,  ..., -3.5706e-03,\n",
       "         -1.9775e-02,  5.3711e-03],\n",
       "        [ 1.3245e-02, -3.8385e-05,  2.2461e-02,  ..., -2.6550e-03,\n",
       "          3.1738e-02, -1.0681e-03],\n",
       "        [ 1.9775e-02,  2.0020e-02,  2.8687e-02,  ..., -3.5248e-03,\n",
       "          3.1433e-03, -7.6294e-03],\n",
       "        ...,\n",
       "        [-3.0975e-03,  2.1057e-03,  4.8828e-03,  ..., -2.0905e-03,\n",
       "         -1.2207e-03, -2.8992e-03],\n",
       "        [-3.0975e-03,  2.1057e-03,  4.8828e-03,  ..., -2.0905e-03,\n",
       "         -1.2207e-03, -2.8992e-03],\n",
       "        [-3.0975e-03,  2.1057e-03,  4.8828e-03,  ..., -2.0905e-03,\n",
       "         -1.2207e-03, -2.8992e-03]])"
      ]
     },
     "execution_count": 16,
     "metadata": {},
     "output_type": "execute_result"
    }
   ],
   "source": [
    "# 加载嵌入层\n",
    "embedding_layer = torch.nn.Embedding(vocab_size, dim)\n",
    "embedding_layer.weight.data.copy_(model[\"model.embed_tokens.weight\"])"
   ]
  },
  {
   "cell_type": "code",
   "execution_count": 17,
   "id": "2fc1d220-142a-460c-bbed-241c22d839b7",
   "metadata": {},
   "outputs": [
    {
     "name": "stdout",
     "output_type": "stream",
     "text": [
      "torch.Size([17, 3072])\n"
     ]
    }
   ],
   "source": [
    "token_embeddings_unnormalized = embedding_layer(tokens).to(torch_dtype).to(device)\n",
    "print(token_embeddings_unnormalized.shape)"
   ]
  },
  {
   "cell_type": "markdown",
   "id": "bcbba8de-3e65-4f4a-87e0-d14f1a75f424",
   "metadata": {},
   "source": [
    "# RMS 归一化"
   ]
  },
  {
   "cell_type": "code",
   "execution_count": 18,
   "id": "7c330adb-ff10-4990-9f92-4ac2ea37163b",
   "metadata": {},
   "outputs": [],
   "source": [
    "def rms_norm(tensor, norm_weights):\n",
    "    r_rms = torch.rsqrt(tensor.pow(2).mean(-1, keepdim=True) + norm_eps)\n",
    "    x = (tensor * r_rms) * norm_weights\n",
    "    return x"
   ]
  },
  {
   "cell_type": "code",
   "execution_count": 19,
   "id": "1d2504e8-07ed-46f2-b6c5-4f9f8313c7cb",
   "metadata": {},
   "outputs": [
    {
     "name": "stdout",
     "output_type": "stream",
     "text": [
      "torch.Size([17, 3072])\n"
     ]
    }
   ],
   "source": [
    "# 测试归一化\n",
    "token_embeddings = rms_norm(token_embeddings_unnormalized, model[\"model.layers.0.input_layernorm.weight\"])\n",
    "print(token_embeddings.shape)"
   ]
  },
  {
   "cell_type": "markdown",
   "id": "5c5e9fd3-15f3-4c83-9513-8b4fc589e4e0",
   "metadata": {},
   "source": [
    "# 实现注意力机制"
   ]
  },
  {
   "cell_type": "code",
   "execution_count": 20,
   "id": "90014431-ce0b-48f1-9c4d-020bcac8a545",
   "metadata": {},
   "outputs": [
    {
     "name": "stdout",
     "output_type": "stream",
     "text": [
      "torch.Size([3072, 3072]) torch.Size([1024, 3072]) torch.Size([1024, 3072]) torch.Size([3072, 3072])\n"
     ]
    }
   ],
   "source": [
    "print(\n",
    "    model[\"model.layers.0.self_attn.q_proj.weight\"].shape,\n",
    "    model[\"model.layers.0.self_attn.k_proj.weight\"].shape,\n",
    "    model[\"model.layers.0.self_attn.v_proj.weight\"].shape,\n",
    "    model[\"model.layers.0.self_attn.o_proj.weight\"].shape,\n",
    ")"
   ]
  },
  {
   "cell_type": "markdown",
   "id": "e4907c5c-0149-4ebd-91e4-6bcd12ec8fdb",
   "metadata": {},
   "source": [
    "## 计算 query"
   ]
  },
  {
   "cell_type": "code",
   "execution_count": 21,
   "id": "e5979fa4-0ad3-42a7-b392-3eafa93c25ff",
   "metadata": {},
   "outputs": [
    {
     "name": "stdout",
     "output_type": "stream",
     "text": [
      "torch.Size([24, 128, 3072])\n"
     ]
    }
   ],
   "source": [
    "q_layer0 = model[\"model.layers.0.self_attn.q_proj.weight\"]\n",
    "head_dim = q_layer0.shape[0] // n_heads\n",
    "q_layer0 = q_layer0.view(n_heads, head_dim, dim)\n",
    "print(q_layer0.shape)"
   ]
  },
  {
   "cell_type": "markdown",
   "id": "8c375265-122a-4079-b947-49287006a2da",
   "metadata": {},
   "source": [
    "## 第一层的第一个头"
   ]
  },
  {
   "cell_type": "code",
   "execution_count": 22,
   "id": "55d38dbc-0990-4e40-9164-6e3512a40530",
   "metadata": {},
   "outputs": [
    {
     "name": "stdout",
     "output_type": "stream",
     "text": [
      "torch.Size([128, 3072])\n"
     ]
    }
   ],
   "source": [
    "q_layer0_head0 = q_layer0[0]\n",
    "print(q_layer0_head0.shape)"
   ]
  },
  {
   "cell_type": "code",
   "execution_count": 23,
   "id": "96ad8e77-e2e1-4c97-b378-9fd09e0396b3",
   "metadata": {},
   "outputs": [
    {
     "name": "stdout",
     "output_type": "stream",
     "text": [
      "torch.Size([17, 128])\n"
     ]
    }
   ],
   "source": [
    "q_per_token = torch.matmul(token_embeddings, q_layer0_head0.T)\n",
    "print(q_per_token.shape)"
   ]
  },
  {
   "cell_type": "markdown",
   "id": "148a8847-5aa2-43be-8de7-10465ad462d1",
   "metadata": {},
   "source": [
    "# 位置编码"
   ]
  },
  {
   "cell_type": "code",
   "execution_count": 24,
   "id": "635d3be3-74d8-4cae-b2b3-b72a9866d139",
   "metadata": {},
   "outputs": [],
   "source": [
    "import numpy as np"
   ]
  },
  {
   "cell_type": "code",
   "execution_count": 25,
   "id": "d2792a3e-e7ef-4569-ac03-868a799a16d4",
   "metadata": {},
   "outputs": [],
   "source": [
    "def get_position_encoding(seq_len, d_model):\n",
    "    \"\"\"生成位置编码\n",
    "    param seq_len: 序列长度\n",
    "    param d_model: 词嵌入的纬度\n",
    "    return: 位置矩阵编码 [seq_len, d_model]\n",
    "    \"\"\"\n",
    "    position = np.arange(seq_len)[:, np.newaxis] # [seq_len, 1]\n",
    "    print(f\"{position=}\")\n",
    "\n",
    "    k = np.arange(d_model // 2)\n",
    "    print(f\"{k=}\")\n",
    "    div_term = 10000 ** (2 * k / d_model) # [d_model // 2]\n",
    "\n",
    "    pe = np.zeros((seq_len, d_model))\n",
    "    pe[:, 0::2] = np.sin(position / div_term) # 偶数位置\n",
    "    pe[:, 1::2] = np.cos(position / div_term) # 奇数位置\n",
    "\n",
    "    return torch.tensor(pe, dtype=torch.float32)"
   ]
  },
  {
   "cell_type": "code",
   "execution_count": 26,
   "id": "65575cfe-c7e1-45ec-b43f-31163a509319",
   "metadata": {},
   "outputs": [
    {
     "name": "stdout",
     "output_type": "stream",
     "text": [
      "position=array([[0],\n",
      "       [1],\n",
      "       [2],\n",
      "       [3],\n",
      "       [4],\n",
      "       [5]])\n",
      "k=array([0, 1, 2, 3])\n"
     ]
    },
    {
     "data": {
      "text/plain": [
       "tensor([[ 0.0000e+00,  1.0000e+00,  0.0000e+00,  1.0000e+00,  0.0000e+00,\n",
       "          1.0000e+00,  0.0000e+00,  1.0000e+00],\n",
       "        [ 8.4147e-01,  5.4030e-01,  9.9833e-02,  9.9500e-01,  9.9998e-03,\n",
       "          9.9995e-01,  1.0000e-03,  1.0000e+00],\n",
       "        [ 9.0930e-01, -4.1615e-01,  1.9867e-01,  9.8007e-01,  1.9999e-02,\n",
       "          9.9980e-01,  2.0000e-03,  1.0000e+00],\n",
       "        [ 1.4112e-01, -9.8999e-01,  2.9552e-01,  9.5534e-01,  2.9996e-02,\n",
       "          9.9955e-01,  3.0000e-03,  1.0000e+00],\n",
       "        [-7.5680e-01, -6.5364e-01,  3.8942e-01,  9.2106e-01,  3.9989e-02,\n",
       "          9.9920e-01,  4.0000e-03,  9.9999e-01],\n",
       "        [-9.5892e-01,  2.8366e-01,  4.7943e-01,  8.7758e-01,  4.9979e-02,\n",
       "          9.9875e-01,  5.0000e-03,  9.9999e-01]])"
      ]
     },
     "execution_count": 26,
     "metadata": {},
     "output_type": "execute_result"
    }
   ],
   "source": [
    "get_position_encoding(seq_len=6, d_model=8)"
   ]
  },
  {
   "cell_type": "markdown",
   "id": "238bc899-f5e8-49ae-a633-0a2168dd7469",
   "metadata": {},
   "source": [
    "# 旋转位置编码"
   ]
  },
  {
   "cell_type": "code",
   "execution_count": 27,
   "id": "454957d1-3926-43ce-9d13-442267ef4017",
   "metadata": {},
   "outputs": [
    {
     "data": {
      "text/plain": [
       "torch.Size([17, 64, 2])"
      ]
     },
     "execution_count": 27,
     "metadata": {},
     "output_type": "execute_result"
    }
   ],
   "source": [
    "q_per_token_split_into_pairs = q_per_token.float().view(q_per_token.shape[0], -1, 2)\n",
    "q_per_token_split_into_pairs.shape"
   ]
  },
  {
   "cell_type": "code",
   "execution_count": 28,
   "id": "55c025e7-776b-4433-b9a7-cccdd155fcc7",
   "metadata": {},
   "outputs": [
    {
     "data": {
      "text/plain": [
       "tensor([0.0000, 0.0156, 0.0312, 0.0469, 0.0625, 0.0781, 0.0938, 0.1094, 0.1250,\n",
       "        0.1406, 0.1562, 0.1719, 0.1875, 0.2031, 0.2188, 0.2344, 0.2500, 0.2656,\n",
       "        0.2812, 0.2969, 0.3125, 0.3281, 0.3438, 0.3594, 0.3750, 0.3906, 0.4062,\n",
       "        0.4219, 0.4375, 0.4531, 0.4688, 0.4844, 0.5000, 0.5156, 0.5312, 0.5469,\n",
       "        0.5625, 0.5781, 0.5938, 0.6094, 0.6250, 0.6406, 0.6562, 0.6719, 0.6875,\n",
       "        0.7031, 0.7188, 0.7344, 0.7500, 0.7656, 0.7812, 0.7969, 0.8125, 0.8281,\n",
       "        0.8438, 0.8594, 0.8750, 0.8906, 0.9062, 0.9219, 0.9375, 0.9531, 0.9688,\n",
       "        0.9844])"
      ]
     },
     "execution_count": 28,
     "metadata": {},
     "output_type": "execute_result"
    }
   ],
   "source": [
    "zero_to_one_split_into_64_parts = torch.tensor(range(head_dim // 2)) / (head_dim // 2)\n",
    "zero_to_one_split_into_64_parts"
   ]
  },
  {
   "cell_type": "code",
   "execution_count": 29,
   "id": "6c3b1c1d-dc49-4048-9d2c-93ff20f81197",
   "metadata": {},
   "outputs": [
    {
     "data": {
      "text/plain": [
       "tensor([1.0000e+00, 8.1462e-01, 6.6360e-01, 5.4058e-01, 4.4037e-01, 3.5873e-01,\n",
       "        2.9223e-01, 2.3805e-01, 1.9392e-01, 1.5797e-01, 1.2869e-01, 1.0483e-01,\n",
       "        8.5397e-02, 6.9566e-02, 5.6670e-02, 4.6164e-02, 3.7606e-02, 3.0635e-02,\n",
       "        2.4955e-02, 2.0329e-02, 1.6560e-02, 1.3490e-02, 1.0990e-02, 8.9523e-03,\n",
       "        7.2927e-03, 5.9407e-03, 4.8394e-03, 3.9423e-03, 3.2114e-03, 2.6161e-03,\n",
       "        2.1311e-03, 1.7360e-03, 1.4142e-03, 1.1520e-03, 9.3847e-04, 7.6450e-04,\n",
       "        6.2277e-04, 5.0732e-04, 4.1327e-04, 3.3666e-04, 2.7425e-04, 2.2341e-04,\n",
       "        1.8199e-04, 1.4825e-04, 1.2077e-04, 9.8381e-05, 8.0143e-05, 6.5286e-05,\n",
       "        5.3183e-05, 4.3324e-05, 3.5292e-05, 2.8750e-05, 2.3420e-05, 1.9078e-05,\n",
       "        1.5542e-05, 1.2660e-05, 1.0313e-05, 8.4015e-06, 6.8440e-06, 5.5752e-06,\n",
       "        4.5417e-06, 3.6997e-06, 3.0139e-06, 2.4551e-06])"
      ]
     },
     "execution_count": 29,
     "metadata": {},
     "output_type": "execute_result"
    }
   ],
   "source": [
    "freqs = 1.0 / (rope_theta ** zero_to_one_split_into_64_parts)\n",
    "freqs"
   ]
  },
  {
   "cell_type": "code",
   "execution_count": 30,
   "id": "8223019c-9737-4f8c-aad0-f7ae931be02a",
   "metadata": {},
   "outputs": [
    {
     "name": "stdout",
     "output_type": "stream",
     "text": [
      "tensor([[ 1.0000+0.0000e+00j,  1.0000+0.0000e+00j,  1.0000+0.0000e+00j,\n",
      "          ...,  1.0000+0.0000e+00j,  1.0000+0.0000e+00j,\n",
      "          1.0000+0.0000e+00j],\n",
      "        [ 0.5403+8.4147e-01j,  0.6861+7.2746e-01j,  0.7878+6.1596e-01j,\n",
      "          ...,  1.0000+3.6997e-06j,  1.0000+3.0139e-06j,\n",
      "          1.0000+2.4551e-06j],\n",
      "        [-0.4161+9.0930e-01j, -0.0584+9.9829e-01j,  0.2412+9.7048e-01j,\n",
      "          ...,  1.0000+7.3994e-06j,  1.0000+6.0277e-06j,\n",
      "          1.0000+4.9103e-06j],\n",
      "        ...,\n",
      "        [ 0.1367+9.9061e-01j,  0.3978-9.1749e-01j, -0.9910+1.3396e-01j,\n",
      "          ...,  1.0000+5.1796e-05j,  1.0000+4.2194e-05j,\n",
      "          1.0000+3.4372e-05j],\n",
      "        [-0.7597+6.5029e-01j,  0.9404-3.4018e-01j, -0.8632-5.0488e-01j,\n",
      "          ...,  1.0000+5.5496e-05j,  1.0000+4.5208e-05j,\n",
      "          1.0000+3.6827e-05j],\n",
      "        [-0.9577-2.8790e-01j,  0.8927+4.5066e-01j, -0.3690-9.2942e-01j,\n",
      "          ...,  1.0000+5.9196e-05j,  1.0000+4.8222e-05j,\n",
      "          1.0000+3.9282e-05j]])\n"
     ]
    }
   ],
   "source": [
    "freqs_for_each_token = torch.outer(torch.arange(len(token_embeddings_unnormalized)), freqs)\n",
    "\n",
    "freqs_cis = torch.polar(torch.ones_like(freqs_for_each_token), freqs_for_each_token)\n",
    "print(freqs_cis)"
   ]
  },
  {
   "cell_type": "code",
   "execution_count": 31,
   "id": "7ba7c842-cbc8-43d2-b3e5-c88acee86755",
   "metadata": {},
   "outputs": [
    {
     "data": {
      "text/plain": [
       "torch.Size([17, 64])"
      ]
     },
     "execution_count": 31,
     "metadata": {},
     "output_type": "execute_result"
    }
   ],
   "source": [
    "freqs_cis.shape"
   ]
  },
  {
   "cell_type": "code",
   "execution_count": 32,
   "id": "83fd6262-82ef-46b8-bb4b-539acef1a720",
   "metadata": {},
   "outputs": [
    {
     "data": {
      "image/png": "[encoded data removed]",
      "text/plain": [
       "<Figure size 640x480 with 1 Axes>"
      ]
     },
     "metadata": {},
     "output_type": "display_data"
    }
   ],
   "source": [
    "value = freqs_cis[3]\n",
    "plt.figure()\n",
    "for i, element in enumerate(value[:17]):\n",
    "    plt.plot([0, element.real], [0, element.imag], color='blue', linewidth=1, label=f\"Index: {i}\")\n",
    "    plt.annotate(f\"{i}\", xy=(element.real, element.imag), color='red')\n",
    "plt.xlabel(\"Real\")\n",
    "plt.ylabel(\"Imag\")\n",
    "plt.show()"
   ]
  },
  {
   "cell_type": "code",
   "execution_count": 37,
   "id": "ef42bb81-9530-448d-81e7-8f9224e17349",
   "metadata": {},
   "outputs": [
    {
     "name": "stdout",
     "output_type": "stream",
     "text": [
      "torch.Size([17, 64])\n"
     ]
    }
   ],
   "source": [
    "q_per_token_as_complex_numbers = torch.view_as_complex(q_per_token_split_into_pairs)\n",
    "print(q_per_token_as_complex_numbers.shape)"
   ]
  },
  {
   "cell_type": "code",
   "execution_count": 39,
   "id": "750a65ff-fdd6-473a-90ce-b62d9e08f32f",
   "metadata": {},
   "outputs": [
    {
     "data": {
      "text/plain": [
       "tensor([[ 0.0608+0.2539j,  0.1699-0.2100j,  0.0515-0.0386j,  ...,\n",
       "         -0.0220+0.0243j,  0.2500-0.1279j,  0.0244+0.0693j],\n",
       "        [ 0.3184+0.2832j,  0.0854-0.3242j,  0.0026-0.1240j,  ...,\n",
       "          0.0903-1.4297j,  0.8711-0.3301j,  0.6797+1.1484j],\n",
       "        [ 0.9258+1.0000j,  0.4258-0.7969j,  0.2188-0.3223j,  ...,\n",
       "         -0.0620-1.6328j,  1.0859-0.7539j,  0.7812+1.7969j],\n",
       "        ...,\n",
       "        [-0.1187-0.0859j, -0.1631-0.4160j,  0.1572-0.0253j,  ...,\n",
       "          0.3652-1.7969j,  1.1484-0.0045j,  0.2598+1.2422j],\n",
       "        [ 0.0471-0.3516j, -0.1426-0.0081j,  0.0913-0.0216j,  ...,\n",
       "          0.2539-0.9414j, -0.0386-0.5273j, -0.1187+0.5312j],\n",
       "        [ 0.4707+0.4004j,  0.0767-0.6289j, -0.0021-0.2188j,  ...,\n",
       "         -0.1221-1.5234j,  0.7227-0.3770j,  0.6133+1.3594j]], device='cuda:0',\n",
       "       grad_fn=<ViewAsComplexBackward0>)"
      ]
     },
     "execution_count": 39,
     "metadata": {},
     "output_type": "execute_result"
    }
   ],
   "source": [
    "q_per_token_as_complex_numbers"
   ]
  },
  {
   "cell_type": "code",
   "execution_count": 42,
   "id": "1926d265-a5b2-411b-b3ab-064097822660",
   "metadata": {},
   "outputs": [
    {
     "name": "stdout",
     "output_type": "stream",
     "text": [
      "torch.Size([17, 64])\n"
     ]
    }
   ],
   "source": [
    "# 旋转\n",
    "q_per_token_as_complex_numbers_rotated = q_per_token_as_complex_numbers * freqs_cis.to(device)\n",
    "print(q_per_token_as_complex_numbers_rotated.shape)"
   ]
  },
  {
   "cell_type": "code",
   "execution_count": 45,
   "id": "bbb96222-0dd2-44c0-a012-096872ecd07f",
   "metadata": {},
   "outputs": [
    {
     "name": "stdout",
     "output_type": "stream",
     "text": [
      "torch.Size([17, 64, 2])\n"
     ]
    }
   ],
   "source": [
    "# 返回成对的 query\n",
    "q_per_token_split_into_pairs_rotated = torch.view_as_real(q_per_token_as_complex_numbers_rotated)\n",
    "print(q_per_token_split_into_pairs_rotated.shape)"
   ]
  },
  {
   "cell_type": "code",
   "execution_count": 48,
   "id": "69d0d6da-db20-4655-b116-fc48328a6077",
   "metadata": {},
   "outputs": [
    {
     "name": "stdout",
     "output_type": "stream",
     "text": [
      "torch.Size([17, 128])\n"
     ]
    }
   ],
   "source": [
    "# 合并成 query 向量\n",
    "q_per_token_rotated = q_per_token_split_into_pairs_rotated.view(q_per_token.shape)\n",
    "print(q_per_token_rotated.shape)"
   ]
  },
  {
   "cell_type": "markdown",
   "id": "b05e1661-daad-4f49-9250-2cb0fdcc9af7",
   "metadata": {},
   "source": [
    "## 计算 key"
   ]
  },
  {
   "cell_type": "code",
   "execution_count": null,
   "id": "5155a08b-ce7e-4dd9-87f6-6c8b3bf8fd83",
   "metadata": {},
   "outputs": [],
   "source": []
  }
 ],
 "metadata": {
  "kernelspec": {
   "display_name": "Python 3 (ipykernel)",
   "language": "python",
   "name": "python3"
  },
  "language_info": {
   "codemirror_mode": {
    "name": "ipython",
    "version": 3
   },
   "file_extension": ".py",
   "mimetype": "text/x-python",
   "name": "python",
   "nbconvert_exporter": "python",
   "pygments_lexer": "ipython3",
   "version": "3.12.11"
  }
 },
 "nbformat": 4,
 "nbformat_minor": 5
}
