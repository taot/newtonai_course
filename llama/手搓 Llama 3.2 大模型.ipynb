{
 "cells": [
  {
   "cell_type": "markdown",
   "id": "096ac818-59de-43eb-9085-591aa515f8bc",
   "metadata": {},
   "source": [
    "# Test"
   ]
  },
  {
   "cell_type": "code",
   "id": "9330fb10-733e-4acd-bf80-be84ba9de3ea",
   "metadata": {
    "ExecuteTime": {
     "end_time": "2025-09-11T00:00:28.488024Z",
     "start_time": "2025-09-10T23:59:56.512056Z"
    }
   },
   "source": [
    "# Use a pipeline as a high-level helper\n",
    "from transformers import pipeline\n",
    "\n",
    "pipe = pipeline(\"text-generation\", model=\"meta-llama/Llama-3.2-3B-Instruct\")\n",
    "messages = [\n",
    "    {\"role\": \"user\", \"content\": \"Who are you?\"},\n",
    "]\n",
    "pipe(messages)"
   ],
   "outputs": [
    {
     "data": {
      "text/plain": [
       "config.json:   0%|          | 0.00/878 [00:00<?, ?B/s]"
      ],
      "application/vnd.jupyter.widget-view+json": {
       "version_major": 2,
       "version_minor": 0,
       "model_id": "cd765a8ddc254bbaa8fc16396a450645"
      }
     },
     "metadata": {},
     "output_type": "display_data",
     "jetTransient": {
      "display_id": null
     }
    },
    {
     "data": {
      "text/plain": [
       "model.safetensors.index.json:   0%|          | 0.00/20.9k [00:00<?, ?B/s]"
      ],
      "application/vnd.jupyter.widget-view+json": {
       "version_major": 2,
       "version_minor": 0,
       "model_id": "3bce80b4309f41d7b9542d9e71a2a697"
      }
     },
     "metadata": {},
     "output_type": "display_data",
     "jetTransient": {
      "display_id": null
     }
    },
    {
     "data": {
      "text/plain": [
       "Fetching 2 files:   0%|          | 0/2 [00:00<?, ?it/s]"
      ],
      "application/vnd.jupyter.widget-view+json": {
       "version_major": 2,
       "version_minor": 0,
       "model_id": "2ddfd6b5c91342609ef5fb1d916fd055"
      }
     },
     "metadata": {},
     "output_type": "display_data",
     "jetTransient": {
      "display_id": null
     }
    },
    {
     "data": {
      "text/plain": [
       "model-00002-of-00002.safetensors:   0%|          | 0.00/1.46G [00:00<?, ?B/s]"
      ],
      "application/vnd.jupyter.widget-view+json": {
       "version_major": 2,
       "version_minor": 0,
       "model_id": "316a35c9ede6416993675d44c3821692"
      }
     },
     "metadata": {},
     "output_type": "display_data",
     "jetTransient": {
      "display_id": null
     }
    },
    {
     "data": {
      "text/plain": [
       "model-00001-of-00002.safetensors:   0%|          | 0.00/4.97G [00:00<?, ?B/s]"
      ],
      "application/vnd.jupyter.widget-view+json": {
       "version_major": 2,
       "version_minor": 0,
       "model_id": "d637e498908e45189b787c96e16f5cda"
      }
     },
     "metadata": {},
     "output_type": "display_data",
     "jetTransient": {
      "display_id": null
     }
    },
    {
     "data": {
      "text/plain": [
       "Loading checkpoint shards:   0%|          | 0/2 [00:00<?, ?it/s]"
      ],
      "application/vnd.jupyter.widget-view+json": {
       "version_major": 2,
       "version_minor": 0,
       "model_id": "32ff104b569c4f028033330c769b0a6b"
      }
     },
     "metadata": {},
     "output_type": "display_data",
     "jetTransient": {
      "display_id": null
     }
    },
    {
     "data": {
      "text/plain": [
       "generation_config.json:   0%|          | 0.00/189 [00:00<?, ?B/s]"
      ],
      "application/vnd.jupyter.widget-view+json": {
       "version_major": 2,
       "version_minor": 0,
       "model_id": "f9f20a63cabd48418bd2aafd39f69e7f"
      }
     },
     "metadata": {},
     "output_type": "display_data",
     "jetTransient": {
      "display_id": null
     }
    },
    {
     "data": {
      "text/plain": [
       "tokenizer_config.json:   0%|          | 0.00/54.5k [00:00<?, ?B/s]"
      ],
      "application/vnd.jupyter.widget-view+json": {
       "version_major": 2,
       "version_minor": 0,
       "model_id": "35d3d2f415b94ff3bb6c0ea3ace85b5f"
      }
     },
     "metadata": {},
     "output_type": "display_data",
     "jetTransient": {
      "display_id": null
     }
    },
    {
     "data": {
      "text/plain": [
       "tokenizer.json:   0%|          | 0.00/9.09M [00:00<?, ?B/s]"
      ],
      "application/vnd.jupyter.widget-view+json": {
       "version_major": 2,
       "version_minor": 0,
       "model_id": "57395aa314634472938d40497765a4ee"
      }
     },
     "metadata": {},
     "output_type": "display_data",
     "jetTransient": {
      "display_id": null
     }
    },
    {
     "data": {
      "text/plain": [
       "special_tokens_map.json:   0%|          | 0.00/296 [00:00<?, ?B/s]"
      ],
      "application/vnd.jupyter.widget-view+json": {
       "version_major": 2,
       "version_minor": 0,
       "model_id": "7fbc770e52dd4988815997453f884240"
      }
     },
     "metadata": {},
     "output_type": "display_data",
     "jetTransient": {
      "display_id": null
     }
    },
    {
     "name": "stderr",
     "output_type": "stream",
     "text": [
      "Device set to use cuda:0\n",
      "Setting `pad_token_id` to `eos_token_id`:128001 for open-end generation.\n"
     ]
    },
    {
     "data": {
      "text/plain": [
       "[{'generated_text': [{'role': 'user', 'content': 'Who are you?'},\n",
       "   {'role': 'assistant',\n",
       "    'content': 'I\\'m an artificial intelligence model known as Llama. Llama stands for \"Large Language Model Meta AI.\"'}]}]"
      ]
     },
     "execution_count": 1,
     "metadata": {},
     "output_type": "execute_result"
    }
   ],
   "execution_count": 1
  },
  {
   "cell_type": "markdown",
   "id": "438b2ab7-b5ad-4410-abbb-c18bdf4abd5d",
   "metadata": {},
   "source": [
    "# 分词器 Tokenizer"
   ]
  },
  {
   "cell_type": "code",
   "id": "e15ed149-fa8e-42b1-9a38-f0f1b68f1ab2",
   "metadata": {
    "ExecuteTime": {
     "end_time": "2025-09-10T10:27:52.684578Z",
     "start_time": "2025-09-10T10:27:51.736436Z"
    }
   },
   "source": [
    "import json\n",
    "import matplotlib.pyplot as plt\n",
    "\n",
    "from pathlib import Path\n",
    "import torch\n",
    "from transformers import AutoModel, AutoTokenizer, AutoModelForCausalLM"
   ],
   "outputs": [],
   "execution_count": 3
  },
  {
   "cell_type": "code",
   "id": "6c213f05-a50b-4ed2-8a8e-e7bb47d10821",
   "metadata": {
    "ExecuteTime": {
     "end_time": "2025-09-10T10:27:52.743503Z",
     "start_time": "2025-09-10T10:27:52.739936Z"
    }
   },
   "source": [
    "MODLE_BASE_DIR = \"/workspace/.hf_home/hub/models--meta-llama--Llama-3.2-3B-Instruct/snapshots/0cb88a4f764b7a12671c53f0838cd831a0843b95\""
   ],
   "outputs": [],
   "execution_count": 4
  },
  {
   "cell_type": "code",
   "id": "4d826713-ef2f-462b-bff2-762eeb70b679",
   "metadata": {
    "ExecuteTime": {
     "end_time": "2025-09-10T10:27:52.802566Z",
     "start_time": "2025-09-10T10:27:52.799440Z"
    }
   },
   "source": [
    "model_path = MODLE_BASE_DIR\n",
    "device = torch.device(\"cuda\" if torch.cuda.is_available else \"cpu\")\n",
    "torch_dtype = torch.bfloat16"
   ],
   "outputs": [],
   "execution_count": 5
  },
  {
   "cell_type": "code",
   "id": "2b7700d4-7fa8-4e48-9412-7c1998a57878",
   "metadata": {
    "ExecuteTime": {
     "end_time": "2025-09-10T10:27:53.167999Z",
     "start_time": "2025-09-10T10:27:52.858422Z"
    }
   },
   "source": [
    "tokenizer = AutoTokenizer.from_pretrained(model_path)"
   ],
   "outputs": [],
   "execution_count": 6
  },
  {
   "cell_type": "markdown",
   "id": "49de51f2-51e3-4c8c-b72c-42614405fe0c",
   "metadata": {},
   "source": [
    "# 读取模型文件"
   ]
  },
  {
   "cell_type": "code",
   "id": "32ca2e59-eed7-4e04-a0aa-ee6a790b5908",
   "metadata": {
    "ExecuteTime": {
     "end_time": "2025-09-10T10:27:54.216760Z",
     "start_time": "2025-09-10T10:27:53.184156Z"
    }
   },
   "source": [
    "model_m = AutoModelForCausalLM.from_pretrained(model_path, torch_dtype=torch_dtype)\n",
    "model_m.to(device)"
   ],
   "outputs": [
    {
     "name": "stderr",
     "output_type": "stream",
     "text": [
      "`torch_dtype` is deprecated! Use `dtype` instead!\n"
     ]
    },
    {
     "data": {
      "text/plain": [
       "Loading checkpoint shards:   0%|          | 0/2 [00:00<?, ?it/s]"
      ],
      "application/vnd.jupyter.widget-view+json": {
       "version_major": 2,
       "version_minor": 0,
       "model_id": "4703ec5491634638b33cf422ef929c6f"
      }
     },
     "metadata": {},
     "output_type": "display_data",
     "jetTransient": {
      "display_id": null
     }
    },
    {
     "data": {
      "text/plain": [
       "LlamaForCausalLM(\n",
       "  (model): LlamaModel(\n",
       "    (embed_tokens): Embedding(128256, 3072)\n",
       "    (layers): ModuleList(\n",
       "      (0-27): 28 x LlamaDecoderLayer(\n",
       "        (self_attn): LlamaAttention(\n",
       "          (q_proj): Linear(in_features=3072, out_features=3072, bias=False)\n",
       "          (k_proj): Linear(in_features=3072, out_features=1024, bias=False)\n",
       "          (v_proj): Linear(in_features=3072, out_features=1024, bias=False)\n",
       "          (o_proj): Linear(in_features=3072, out_features=3072, bias=False)\n",
       "        )\n",
       "        (mlp): LlamaMLP(\n",
       "          (gate_proj): Linear(in_features=3072, out_features=8192, bias=False)\n",
       "          (up_proj): Linear(in_features=3072, out_features=8192, bias=False)\n",
       "          (down_proj): Linear(in_features=8192, out_features=3072, bias=False)\n",
       "          (act_fn): SiLU()\n",
       "        )\n",
       "        (input_layernorm): LlamaRMSNorm((3072,), eps=1e-05)\n",
       "        (post_attention_layernorm): LlamaRMSNorm((3072,), eps=1e-05)\n",
       "      )\n",
       "    )\n",
       "    (norm): LlamaRMSNorm((3072,), eps=1e-05)\n",
       "    (rotary_emb): LlamaRotaryEmbedding()\n",
       "  )\n",
       "  (lm_head): Linear(in_features=3072, out_features=128256, bias=False)\n",
       ")"
      ]
     },
     "execution_count": 7,
     "metadata": {},
     "output_type": "execute_result"
    }
   ],
   "execution_count": 7
  },
  {
   "cell_type": "code",
   "id": "b2fb7b5a-cadd-4533-92fa-2ecd3fa412bf",
   "metadata": {
    "ExecuteTime": {
     "end_time": "2025-09-10T10:27:54.278374Z",
     "start_time": "2025-09-10T10:27:54.272225Z"
    }
   },
   "source": [
    "model = model_m.state_dict()"
   ],
   "outputs": [],
   "execution_count": 8
  },
  {
   "cell_type": "code",
   "id": "227b6cb1-c163-4262-a6d3-3bcaa7f6587a",
   "metadata": {
    "ExecuteTime": {
     "end_time": "2025-09-10T10:27:54.338962Z",
     "start_time": "2025-09-10T10:27:54.334782Z"
    }
   },
   "source": [
    "# 模型配置参数\n",
    "config = model_m.config.to_dict()\n",
    "print(json.dumps(dict(sorted(config.items())), indent=4))"
   ],
   "outputs": [
    {
     "name": "stdout",
     "output_type": "stream",
     "text": [
      "{\n",
      "    \"_name_or_path\": \"/workspace/.hf_home/hub/models--meta-llama--Llama-3.2-3B-Instruct/snapshots/0cb88a4f764b7a12671c53f0838cd831a0843b95\",\n",
      "    \"add_cross_attention\": false,\n",
      "    \"architectures\": [\n",
      "        \"LlamaForCausalLM\"\n",
      "    ],\n",
      "    \"attention_bias\": false,\n",
      "    \"attention_dropout\": 0.0,\n",
      "    \"bad_words_ids\": null,\n",
      "    \"begin_suppress_tokens\": null,\n",
      "    \"bos_token_id\": 128000,\n",
      "    \"chunk_size_feed_forward\": 0,\n",
      "    \"cross_attention_hidden_size\": null,\n",
      "    \"decoder_start_token_id\": null,\n",
      "    \"diversity_penalty\": 0.0,\n",
      "    \"do_sample\": false,\n",
      "    \"dtype\": \"bfloat16\",\n",
      "    \"early_stopping\": false,\n",
      "    \"encoder_no_repeat_ngram_size\": 0,\n",
      "    \"eos_token_id\": [\n",
      "        128001,\n",
      "        128008,\n",
      "        128009\n",
      "    ],\n",
      "    \"exponential_decay_length_penalty\": null,\n",
      "    \"finetuning_task\": null,\n",
      "    \"forced_bos_token_id\": null,\n",
      "    \"forced_eos_token_id\": null,\n",
      "    \"head_dim\": 128,\n",
      "    \"hidden_act\": \"silu\",\n",
      "    \"hidden_size\": 3072,\n",
      "    \"id2label\": {\n",
      "        \"0\": \"LABEL_0\",\n",
      "        \"1\": \"LABEL_1\"\n",
      "    },\n",
      "    \"initializer_range\": 0.02,\n",
      "    \"intermediate_size\": 8192,\n",
      "    \"is_decoder\": false,\n",
      "    \"is_encoder_decoder\": false,\n",
      "    \"label2id\": {\n",
      "        \"LABEL_0\": 0,\n",
      "        \"LABEL_1\": 1\n",
      "    },\n",
      "    \"length_penalty\": 1.0,\n",
      "    \"max_length\": 20,\n",
      "    \"max_position_embeddings\": 131072,\n",
      "    \"min_length\": 0,\n",
      "    \"mlp_bias\": false,\n",
      "    \"model_type\": \"llama\",\n",
      "    \"no_repeat_ngram_size\": 0,\n",
      "    \"num_attention_heads\": 24,\n",
      "    \"num_beam_groups\": 1,\n",
      "    \"num_beams\": 1,\n",
      "    \"num_hidden_layers\": 28,\n",
      "    \"num_key_value_heads\": 8,\n",
      "    \"num_return_sequences\": 1,\n",
      "    \"output_attentions\": false,\n",
      "    \"output_hidden_states\": false,\n",
      "    \"output_scores\": false,\n",
      "    \"pad_token_id\": null,\n",
      "    \"prefix\": null,\n",
      "    \"pretraining_tp\": 1,\n",
      "    \"problem_type\": null,\n",
      "    \"pruned_heads\": {},\n",
      "    \"remove_invalid_values\": false,\n",
      "    \"repetition_penalty\": 1.0,\n",
      "    \"return_dict\": true,\n",
      "    \"return_dict_in_generate\": false,\n",
      "    \"rms_norm_eps\": 1e-05,\n",
      "    \"rope_scaling\": {\n",
      "        \"factor\": 32.0,\n",
      "        \"high_freq_factor\": 4.0,\n",
      "        \"low_freq_factor\": 1.0,\n",
      "        \"original_max_position_embeddings\": 8192,\n",
      "        \"rope_type\": \"llama3\"\n",
      "    },\n",
      "    \"rope_theta\": 500000.0,\n",
      "    \"sep_token_id\": null,\n",
      "    \"suppress_tokens\": null,\n",
      "    \"task_specific_params\": null,\n",
      "    \"temperature\": 1.0,\n",
      "    \"tf_legacy_loss\": false,\n",
      "    \"tie_encoder_decoder\": false,\n",
      "    \"tie_word_embeddings\": true,\n",
      "    \"tokenizer_class\": null,\n",
      "    \"top_k\": 50,\n",
      "    \"top_p\": 1.0,\n",
      "    \"torchscript\": false,\n",
      "    \"transformers_version\": \"4.56.1\",\n",
      "    \"typical_p\": 1.0,\n",
      "    \"use_bfloat16\": false,\n",
      "    \"use_cache\": true,\n",
      "    \"vocab_size\": 128256\n",
      "}\n"
     ]
    }
   ],
   "execution_count": 9
  },
  {
   "cell_type": "code",
   "id": "cb5a5486-3cdf-4c1f-adc1-85aa739420ee",
   "metadata": {
    "ExecuteTime": {
     "end_time": "2025-09-10T10:27:54.403790Z",
     "start_time": "2025-09-10T10:27:54.399437Z"
    }
   },
   "source": [
    "dim = config[\"hidden_size\"]\n",
    "n_layers = config[\"num_hidden_layers\"]\n",
    "n_heads = config[\"num_attention_heads\"]\n",
    "n_kv_heads = config[\"num_key_value_heads\"]\n",
    "vocab_size = config[\"vocab_size\"]\n",
    "norm_eps = config[\"rms_norm_eps\"]\n",
    "rope_theta = torch.tensor(config[\"rope_theta\"])\n",
    "\n",
    "group_heads = n_heads // n_kv_heads\n",
    "dk = dim // n_heads"
   ],
   "outputs": [],
   "execution_count": 10
  },
  {
   "cell_type": "markdown",
   "id": "0f730687-4be3-4bd6-a6a0-7c98d0a3762a",
   "metadata": {},
   "source": [
    "# 文本分词编码"
   ]
  },
  {
   "cell_type": "code",
   "id": "0dac52c0-b566-42f0-b5b2-e6ebdd8ec32f",
   "metadata": {
    "ExecuteTime": {
     "end_time": "2025-09-10T10:27:54.465501Z",
     "start_time": "2025-09-10T10:27:54.461925Z"
    }
   },
   "source": [
    "prompt = \"测试中，用中文说成语，前程似锦，金榜题\"\n",
    "# prompt = \"中华人民万\"\n",
    "# prompt = \"星期\""
   ],
   "outputs": [],
   "execution_count": 11
  },
  {
   "cell_type": "code",
   "id": "fa02b5db-2e64-45bc-9ae1-f903aae2c097",
   "metadata": {
    "ExecuteTime": {
     "end_time": "2025-09-10T10:27:54.531189Z",
     "start_time": "2025-09-10T10:27:54.526363Z"
    }
   },
   "source": [
    "tokens = tokenizer.encode(prompt, add_special_tokens=True)\n",
    "print(tokens)\n",
    "tokens = torch.tensor(tokens)"
   ],
   "outputs": [
    {
     "name": "stdout",
     "output_type": "stream",
     "text": [
      "[128000, 82805, 16325, 119977, 108891, 37687, 13153, 73981, 3922, 25580, 39607, 104409, 127999, 3922, 35330, 121272, 34972]\n"
     ]
    }
   ],
   "execution_count": 12
  },
  {
   "cell_type": "code",
   "id": "6a8c4705-9aaf-4ac9-859a-ff2831cb33c7",
   "metadata": {
    "ExecuteTime": {
     "end_time": "2025-09-10T10:27:54.591439Z",
     "start_time": "2025-09-10T10:27:54.586210Z"
    }
   },
   "source": [
    "prompt_split_as_tokens = [tokenizer.decode([token.item()]) for token in tokens]\n",
    "print(prompt_split_as_tokens)"
   ],
   "outputs": [
    {
     "name": "stdout",
     "output_type": "stream",
     "text": [
      "['<|begin_of_text|>', '测试', '中', '，用', '中文', '说', '成', '语', '，', '前', '程', '似', '锦', '，', '金', '榜', '题']\n"
     ]
    }
   ],
   "execution_count": 13
  },
  {
   "cell_type": "markdown",
   "id": "de03e1c9-c989-4126-b484-d9ff880b3f19",
   "metadata": {},
   "source": [
    "# Token embedding 嵌入"
   ]
  },
  {
   "cell_type": "code",
   "id": "eb3d14b4-b426-4b6c-b124-b4187fb4de39",
   "metadata": {
    "ExecuteTime": {
     "end_time": "2025-09-10T10:27:54.651545Z",
     "start_time": "2025-09-10T10:27:54.647947Z"
    }
   },
   "source": [
    "# 最后输出的全连接层\n",
    "lm_head = model[\"lm_head.weight\"]"
   ],
   "outputs": [],
   "execution_count": 14
  },
  {
   "cell_type": "code",
   "id": "c700589c-18e2-4f2c-846f-70b00874a665",
   "metadata": {
    "ExecuteTime": {
     "end_time": "2025-09-10T10:27:57.356522Z",
     "start_time": "2025-09-10T10:27:54.709940Z"
    }
   },
   "source": [
    "# 加载嵌入层\n",
    "embedding_layer = torch.nn.Embedding(vocab_size, dim)\n",
    "embedding_layer.weight.data.copy_(model[\"model.embed_tokens.weight\"])"
   ],
   "outputs": [
    {
     "data": {
      "text/plain": [
       "tensor([[ 1.1292e-02,  9.9487e-03,  1.4160e-02,  ..., -3.5706e-03,\n",
       "         -1.9775e-02,  5.3711e-03],\n",
       "        [ 1.3245e-02, -3.8385e-05,  2.2461e-02,  ..., -2.6550e-03,\n",
       "          3.1738e-02, -1.0681e-03],\n",
       "        [ 1.9775e-02,  2.0020e-02,  2.8687e-02,  ..., -3.5248e-03,\n",
       "          3.1433e-03, -7.6294e-03],\n",
       "        ...,\n",
       "        [-3.0975e-03,  2.1057e-03,  4.8828e-03,  ..., -2.0905e-03,\n",
       "         -1.2207e-03, -2.8992e-03],\n",
       "        [-3.0975e-03,  2.1057e-03,  4.8828e-03,  ..., -2.0905e-03,\n",
       "         -1.2207e-03, -2.8992e-03],\n",
       "        [-3.0975e-03,  2.1057e-03,  4.8828e-03,  ..., -2.0905e-03,\n",
       "         -1.2207e-03, -2.8992e-03]])"
      ]
     },
     "execution_count": 15,
     "metadata": {},
     "output_type": "execute_result"
    }
   ],
   "execution_count": 15
  },
  {
   "cell_type": "code",
   "id": "2fc1d220-142a-460c-bbed-241c22d839b7",
   "metadata": {
    "ExecuteTime": {
     "end_time": "2025-09-10T10:27:57.655074Z",
     "start_time": "2025-09-10T10:27:57.649605Z"
    }
   },
   "source": [
    "token_embeddings_unnormalized = embedding_layer(tokens).to(torch_dtype).to(device)\n",
    "print(token_embeddings_unnormalized.shape)"
   ],
   "outputs": [
    {
     "name": "stdout",
     "output_type": "stream",
     "text": [
      "torch.Size([17, 3072])\n"
     ]
    }
   ],
   "execution_count": 16
  },
  {
   "cell_type": "markdown",
   "id": "bcbba8de-3e65-4f4a-87e0-d14f1a75f424",
   "metadata": {},
   "source": [
    "# RMS 归一化"
   ]
  },
  {
   "cell_type": "code",
   "id": "7c330adb-ff10-4990-9f92-4ac2ea37163b",
   "metadata": {
    "ExecuteTime": {
     "end_time": "2025-09-10T10:27:57.713119Z",
     "start_time": "2025-09-10T10:27:57.709988Z"
    }
   },
   "source": [
    "def rms_norm(tensor, norm_weights):\n",
    "    r_rms = torch.rsqrt(tensor.pow(2).mean(-1, keepdim=True) + norm_eps)\n",
    "    x = (tensor * r_rms) * norm_weights\n",
    "    return x"
   ],
   "outputs": [],
   "execution_count": 17
  },
  {
   "cell_type": "code",
   "id": "1d2504e8-07ed-46f2-b6c5-4f9f8313c7cb",
   "metadata": {
    "ExecuteTime": {
     "end_time": "2025-09-10T10:27:57.775549Z",
     "start_time": "2025-09-10T10:27:57.772158Z"
    }
   },
   "source": [
    "# 测试归一化\n",
    "token_embeddings = rms_norm(token_embeddings_unnormalized, model[\"model.layers.0.input_layernorm.weight\"])\n",
    "print(token_embeddings.shape)"
   ],
   "outputs": [
    {
     "name": "stdout",
     "output_type": "stream",
     "text": [
      "torch.Size([17, 3072])\n"
     ]
    }
   ],
   "execution_count": 18
  },
  {
   "cell_type": "markdown",
   "id": "5c5e9fd3-15f3-4c83-9513-8b4fc589e4e0",
   "metadata": {},
   "source": [
    "# 实现注意力机制"
   ]
  },
  {
   "cell_type": "code",
   "id": "90014431-ce0b-48f1-9c4d-020bcac8a545",
   "metadata": {
    "ExecuteTime": {
     "end_time": "2025-09-10T10:27:57.830781Z",
     "start_time": "2025-09-10T10:27:57.828167Z"
    }
   },
   "source": [
    "print(\n",
    "    model[\"model.layers.0.self_attn.q_proj.weight\"].shape,\n",
    "    model[\"model.layers.0.self_attn.k_proj.weight\"].shape,\n",
    "    model[\"model.layers.0.self_attn.v_proj.weight\"].shape,\n",
    "    model[\"model.layers.0.self_attn.o_proj.weight\"].shape,\n",
    ")"
   ],
   "outputs": [
    {
     "name": "stdout",
     "output_type": "stream",
     "text": [
      "torch.Size([3072, 3072]) torch.Size([1024, 3072]) torch.Size([1024, 3072]) torch.Size([3072, 3072])\n"
     ]
    }
   ],
   "execution_count": 19
  },
  {
   "cell_type": "markdown",
   "id": "e4907c5c-0149-4ebd-91e4-6bcd12ec8fdb",
   "metadata": {},
   "source": [
    "## 计算 query"
   ]
  },
  {
   "cell_type": "code",
   "id": "e5979fa4-0ad3-42a7-b392-3eafa93c25ff",
   "metadata": {
    "ExecuteTime": {
     "end_time": "2025-09-10T10:27:57.887060Z",
     "start_time": "2025-09-10T10:27:57.884535Z"
    }
   },
   "source": [
    "q_layer0 = model[\"model.layers.0.self_attn.q_proj.weight\"]\n",
    "head_dim = q_layer0.shape[0] // n_heads\n",
    "q_layer0 = q_layer0.view(n_heads, head_dim, dim)\n",
    "print(q_layer0.shape)"
   ],
   "outputs": [
    {
     "name": "stdout",
     "output_type": "stream",
     "text": [
      "torch.Size([24, 128, 3072])\n"
     ]
    }
   ],
   "execution_count": 20
  },
  {
   "cell_type": "markdown",
   "id": "8c375265-122a-4079-b947-49287006a2da",
   "metadata": {},
   "source": [
    "## 第一层的第一个头"
   ]
  },
  {
   "cell_type": "code",
   "id": "55d38dbc-0990-4e40-9164-6e3512a40530",
   "metadata": {
    "ExecuteTime": {
     "end_time": "2025-09-10T10:27:57.944455Z",
     "start_time": "2025-09-10T10:27:57.941749Z"
    }
   },
   "source": [
    "q_layer0_head0 = q_layer0[0]\n",
    "print(q_layer0_head0.shape)"
   ],
   "outputs": [
    {
     "name": "stdout",
     "output_type": "stream",
     "text": [
      "torch.Size([128, 3072])\n"
     ]
    }
   ],
   "execution_count": 21
  },
  {
   "cell_type": "code",
   "id": "96ad8e77-e2e1-4c97-b378-9fd09e0396b3",
   "metadata": {
    "ExecuteTime": {
     "end_time": "2025-09-10T10:27:58.000255Z",
     "start_time": "2025-09-10T10:27:57.997279Z"
    }
   },
   "source": [
    "q_per_token = torch.matmul(token_embeddings, q_layer0_head0.T)\n",
    "print(q_per_token.shape)"
   ],
   "outputs": [
    {
     "name": "stdout",
     "output_type": "stream",
     "text": [
      "torch.Size([17, 128])\n"
     ]
    }
   ],
   "execution_count": 22
  },
  {
   "cell_type": "markdown",
   "id": "148a8847-5aa2-43be-8de7-10465ad462d1",
   "metadata": {},
   "source": [
    "# 位置编码"
   ]
  },
  {
   "cell_type": "code",
   "id": "635d3be3-74d8-4cae-b2b3-b72a9866d139",
   "metadata": {
    "ExecuteTime": {
     "end_time": "2025-09-10T10:27:58.054844Z",
     "start_time": "2025-09-10T10:27:58.052554Z"
    }
   },
   "source": [
    "import numpy as np"
   ],
   "outputs": [],
   "execution_count": 23
  },
  {
   "cell_type": "code",
   "id": "d2792a3e-e7ef-4569-ac03-868a799a16d4",
   "metadata": {
    "ExecuteTime": {
     "end_time": "2025-09-10T10:27:58.119341Z",
     "start_time": "2025-09-10T10:27:58.115892Z"
    }
   },
   "source": [
    "def get_position_encoding(seq_len, d_model):\n",
    "    \"\"\"生成位置编码\n",
    "    param seq_len: 序列长度\n",
    "    param d_model: 词嵌入的纬度\n",
    "    return: 位置矩阵编码 [seq_len, d_model]\n",
    "    \"\"\"\n",
    "    position = np.arange(seq_len)[:, np.newaxis] # [seq_len, 1]\n",
    "    print(f\"{position=}\")\n",
    "\n",
    "    k = np.arange(d_model // 2)\n",
    "    print(f\"{k=}\")\n",
    "    div_term = 10000 ** (2 * k / d_model) # [d_model // 2]\n",
    "\n",
    "    pe = np.zeros((seq_len, d_model))\n",
    "    pe[:, 0::2] = np.sin(position / div_term) # 偶数位置\n",
    "    pe[:, 1::2] = np.cos(position / div_term) # 奇数位置\n",
    "\n",
    "    return torch.tensor(pe, dtype=torch.float32)"
   ],
   "outputs": [],
   "execution_count": 24
  },
  {
   "cell_type": "code",
   "id": "65575cfe-c7e1-45ec-b43f-31163a509319",
   "metadata": {
    "ExecuteTime": {
     "end_time": "2025-09-10T10:27:58.178382Z",
     "start_time": "2025-09-10T10:27:58.173521Z"
    }
   },
   "source": [
    "get_position_encoding(seq_len=6, d_model=8)"
   ],
   "outputs": [
    {
     "name": "stdout",
     "output_type": "stream",
     "text": [
      "position=array([[0],\n",
      "       [1],\n",
      "       [2],\n",
      "       [3],\n",
      "       [4],\n",
      "       [5]])\n",
      "k=array([0, 1, 2, 3])\n"
     ]
    },
    {
     "data": {
      "text/plain": [
       "tensor([[ 0.0000e+00,  1.0000e+00,  0.0000e+00,  1.0000e+00,  0.0000e+00,\n",
       "          1.0000e+00,  0.0000e+00,  1.0000e+00],\n",
       "        [ 8.4147e-01,  5.4030e-01,  9.9833e-02,  9.9500e-01,  9.9998e-03,\n",
       "          9.9995e-01,  1.0000e-03,  1.0000e+00],\n",
       "        [ 9.0930e-01, -4.1615e-01,  1.9867e-01,  9.8007e-01,  1.9999e-02,\n",
       "          9.9980e-01,  2.0000e-03,  1.0000e+00],\n",
       "        [ 1.4112e-01, -9.8999e-01,  2.9552e-01,  9.5534e-01,  2.9996e-02,\n",
       "          9.9955e-01,  3.0000e-03,  1.0000e+00],\n",
       "        [-7.5680e-01, -6.5364e-01,  3.8942e-01,  9.2106e-01,  3.9989e-02,\n",
       "          9.9920e-01,  4.0000e-03,  9.9999e-01],\n",
       "        [-9.5892e-01,  2.8366e-01,  4.7943e-01,  8.7758e-01,  4.9979e-02,\n",
       "          9.9875e-01,  5.0000e-03,  9.9999e-01]])"
      ]
     },
     "execution_count": 25,
     "metadata": {},
     "output_type": "execute_result"
    }
   ],
   "execution_count": 25
  },
  {
   "cell_type": "markdown",
   "id": "238bc899-f5e8-49ae-a633-0a2168dd7469",
   "metadata": {},
   "source": [
    "# 旋转位置编码"
   ]
  },
  {
   "cell_type": "code",
   "id": "454957d1-3926-43ce-9d13-442267ef4017",
   "metadata": {
    "ExecuteTime": {
     "end_time": "2025-09-10T10:27:58.239920Z",
     "start_time": "2025-09-10T10:27:58.236717Z"
    }
   },
   "source": [
    "q_per_token_split_into_pairs = q_per_token.float().view(q_per_token.shape[0], -1, 2)\n",
    "q_per_token_split_into_pairs.shape"
   ],
   "outputs": [
    {
     "data": {
      "text/plain": [
       "torch.Size([17, 64, 2])"
      ]
     },
     "execution_count": 26,
     "metadata": {},
     "output_type": "execute_result"
    }
   ],
   "execution_count": 26
  },
  {
   "cell_type": "code",
   "id": "55c025e7-776b-4433-b9a7-cccdd155fcc7",
   "metadata": {
    "ExecuteTime": {
     "end_time": "2025-09-10T10:27:58.297182Z",
     "start_time": "2025-09-10T10:27:58.291208Z"
    }
   },
   "source": [
    "zero_to_one_split_into_64_parts = torch.tensor(range(head_dim // 2)) / (head_dim // 2)\n",
    "zero_to_one_split_into_64_parts"
   ],
   "outputs": [
    {
     "data": {
      "text/plain": [
       "tensor([0.0000, 0.0156, 0.0312, 0.0469, 0.0625, 0.0781, 0.0938, 0.1094, 0.1250,\n",
       "        0.1406, 0.1562, 0.1719, 0.1875, 0.2031, 0.2188, 0.2344, 0.2500, 0.2656,\n",
       "        0.2812, 0.2969, 0.3125, 0.3281, 0.3438, 0.3594, 0.3750, 0.3906, 0.4062,\n",
       "        0.4219, 0.4375, 0.4531, 0.4688, 0.4844, 0.5000, 0.5156, 0.5312, 0.5469,\n",
       "        0.5625, 0.5781, 0.5938, 0.6094, 0.6250, 0.6406, 0.6562, 0.6719, 0.6875,\n",
       "        0.7031, 0.7188, 0.7344, 0.7500, 0.7656, 0.7812, 0.7969, 0.8125, 0.8281,\n",
       "        0.8438, 0.8594, 0.8750, 0.8906, 0.9062, 0.9219, 0.9375, 0.9531, 0.9688,\n",
       "        0.9844])"
      ]
     },
     "execution_count": 27,
     "metadata": {},
     "output_type": "execute_result"
    }
   ],
   "execution_count": 27
  },
  {
   "cell_type": "code",
   "id": "6c3b1c1d-dc49-4048-9d2c-93ff20f81197",
   "metadata": {
    "ExecuteTime": {
     "end_time": "2025-09-10T10:27:58.354304Z",
     "start_time": "2025-09-10T10:27:58.348267Z"
    }
   },
   "source": [
    "freqs = 1.0 / (rope_theta ** zero_to_one_split_into_64_parts)\n",
    "freqs"
   ],
   "outputs": [
    {
     "data": {
      "text/plain": [
       "tensor([1.0000e+00, 8.1462e-01, 6.6360e-01, 5.4058e-01, 4.4037e-01, 3.5873e-01,\n",
       "        2.9223e-01, 2.3805e-01, 1.9392e-01, 1.5797e-01, 1.2869e-01, 1.0483e-01,\n",
       "        8.5397e-02, 6.9566e-02, 5.6670e-02, 4.6164e-02, 3.7606e-02, 3.0635e-02,\n",
       "        2.4955e-02, 2.0329e-02, 1.6560e-02, 1.3490e-02, 1.0990e-02, 8.9523e-03,\n",
       "        7.2927e-03, 5.9407e-03, 4.8394e-03, 3.9423e-03, 3.2114e-03, 2.6161e-03,\n",
       "        2.1311e-03, 1.7360e-03, 1.4142e-03, 1.1520e-03, 9.3847e-04, 7.6450e-04,\n",
       "        6.2277e-04, 5.0732e-04, 4.1327e-04, 3.3666e-04, 2.7425e-04, 2.2341e-04,\n",
       "        1.8199e-04, 1.4825e-04, 1.2077e-04, 9.8381e-05, 8.0143e-05, 6.5286e-05,\n",
       "        5.3183e-05, 4.3324e-05, 3.5292e-05, 2.8750e-05, 2.3420e-05, 1.9078e-05,\n",
       "        1.5542e-05, 1.2660e-05, 1.0313e-05, 8.4015e-06, 6.8440e-06, 5.5752e-06,\n",
       "        4.5417e-06, 3.6997e-06, 3.0139e-06, 2.4551e-06])"
      ]
     },
     "execution_count": 28,
     "metadata": {},
     "output_type": "execute_result"
    }
   ],
   "execution_count": 28
  },
  {
   "cell_type": "code",
   "id": "8223019c-9737-4f8c-aad0-f7ae931be02a",
   "metadata": {
    "ExecuteTime": {
     "end_time": "2025-09-10T10:27:58.419726Z",
     "start_time": "2025-09-10T10:27:58.413237Z"
    }
   },
   "source": [
    "freqs_for_each_token = torch.outer(torch.arange(len(token_embeddings_unnormalized)), freqs)\n",
    "\n",
    "freqs_cis = torch.polar(torch.ones_like(freqs_for_each_token), freqs_for_each_token)\n",
    "print(freqs_cis)"
   ],
   "outputs": [
    {
     "name": "stdout",
     "output_type": "stream",
     "text": [
      "tensor([[ 1.0000+0.0000e+00j,  1.0000+0.0000e+00j,  1.0000+0.0000e+00j,\n",
      "          ...,  1.0000+0.0000e+00j,  1.0000+0.0000e+00j,\n",
      "          1.0000+0.0000e+00j],\n",
      "        [ 0.5403+8.4147e-01j,  0.6861+7.2746e-01j,  0.7878+6.1596e-01j,\n",
      "          ...,  1.0000+3.6997e-06j,  1.0000+3.0139e-06j,\n",
      "          1.0000+2.4551e-06j],\n",
      "        [-0.4161+9.0930e-01j, -0.0584+9.9829e-01j,  0.2412+9.7048e-01j,\n",
      "          ...,  1.0000+7.3994e-06j,  1.0000+6.0277e-06j,\n",
      "          1.0000+4.9103e-06j],\n",
      "        ...,\n",
      "        [ 0.1367+9.9061e-01j,  0.3978-9.1749e-01j, -0.9910+1.3396e-01j,\n",
      "          ...,  1.0000+5.1796e-05j,  1.0000+4.2194e-05j,\n",
      "          1.0000+3.4372e-05j],\n",
      "        [-0.7597+6.5029e-01j,  0.9404-3.4018e-01j, -0.8632-5.0488e-01j,\n",
      "          ...,  1.0000+5.5496e-05j,  1.0000+4.5208e-05j,\n",
      "          1.0000+3.6827e-05j],\n",
      "        [-0.9577-2.8790e-01j,  0.8927+4.5066e-01j, -0.3690-9.2942e-01j,\n",
      "          ...,  1.0000+5.9196e-05j,  1.0000+4.8222e-05j,\n",
      "          1.0000+3.9282e-05j]])\n"
     ]
    }
   ],
   "execution_count": 29
  },
  {
   "cell_type": "code",
   "id": "7ba7c842-cbc8-43d2-b3e5-c88acee86755",
   "metadata": {
    "ExecuteTime": {
     "end_time": "2025-09-10T10:27:58.474806Z",
     "start_time": "2025-09-10T10:27:58.470482Z"
    }
   },
   "source": [
    "freqs_cis.shape"
   ],
   "outputs": [
    {
     "data": {
      "text/plain": [
       "torch.Size([17, 64])"
      ]
     },
     "execution_count": 30,
     "metadata": {},
     "output_type": "execute_result"
    }
   ],
   "execution_count": 30
  },
  {
   "cell_type": "code",
   "id": "83fd6262-82ef-46b8-bb4b-539acef1a720",
   "metadata": {
    "ExecuteTime": {
     "end_time": "2025-09-10T10:27:58.685819Z",
     "start_time": "2025-09-10T10:27:58.527206Z"
    }
   },
   "source": [
    "value = freqs_cis[3]\n",
    "plt.figure()\n",
    "for i, element in enumerate(value[:17]):\n",
    "    plt.plot([0, element.real], [0, element.imag], color='blue', linewidth=1, label=f\"Index: {i}\")\n",
    "    plt.annotate(f\"{i}\", xy=(element.real, element.imag), color='red')\n",
    "plt.xlabel(\"Real\")\n",
    "plt.ylabel(\"Imag\")\n",
    "plt.show()"
   ],
   "outputs": [
    {
     "data": {
      "text/plain": [
       "<Figure size 640x480 with 1 Axes>"
      ],
      "image/png": "[encoded data removed]"
     },
     "metadata": {},
     "output_type": "display_data",
     "jetTransient": {
      "display_id": null
     }
    }
   ],
   "execution_count": 31
  },
  {
   "cell_type": "code",
   "id": "ef42bb81-9530-448d-81e7-8f9224e17349",
   "metadata": {
    "ExecuteTime": {
     "end_time": "2025-09-10T10:27:58.710146Z",
     "start_time": "2025-09-10T10:27:58.707208Z"
    }
   },
   "source": [
    "q_per_token_as_complex_numbers = torch.view_as_complex(q_per_token_split_into_pairs)\n",
    "print(q_per_token_as_complex_numbers.shape)"
   ],
   "outputs": [
    {
     "name": "stdout",
     "output_type": "stream",
     "text": [
      "torch.Size([17, 64])\n"
     ]
    }
   ],
   "execution_count": 32
  },
  {
   "cell_type": "code",
   "id": "750a65ff-fdd6-473a-90ce-b62d9e08f32f",
   "metadata": {
    "ExecuteTime": {
     "end_time": "2025-09-10T10:27:58.769103Z",
     "start_time": "2025-09-10T10:27:58.762880Z"
    }
   },
   "source": [
    "q_per_token_as_complex_numbers"
   ],
   "outputs": [
    {
     "data": {
      "text/plain": [
       "tensor([[ 0.0608+0.2539j,  0.1699-0.2100j,  0.0515-0.0386j,  ...,\n",
       "         -0.0220+0.0243j,  0.2500-0.1279j,  0.0244+0.0693j],\n",
       "        [ 0.3184+0.2832j,  0.0854-0.3242j,  0.0026-0.1240j,  ...,\n",
       "          0.0903-1.4297j,  0.8711-0.3301j,  0.6797+1.1484j],\n",
       "        [ 0.9258+1.0000j,  0.4258-0.7969j,  0.2188-0.3223j,  ...,\n",
       "         -0.0620-1.6328j,  1.0859-0.7539j,  0.7812+1.7969j],\n",
       "        ...,\n",
       "        [-0.1187-0.0859j, -0.1631-0.4160j,  0.1572-0.0253j,  ...,\n",
       "          0.3652-1.7969j,  1.1484-0.0045j,  0.2598+1.2422j],\n",
       "        [ 0.0471-0.3516j, -0.1426-0.0081j,  0.0913-0.0216j,  ...,\n",
       "          0.2539-0.9414j, -0.0386-0.5273j, -0.1187+0.5312j],\n",
       "        [ 0.4707+0.4004j,  0.0767-0.6289j, -0.0021-0.2188j,  ...,\n",
       "         -0.1221-1.5234j,  0.7227-0.3770j,  0.6133+1.3594j]], device='cuda:0',\n",
       "       grad_fn=<ViewAsComplexBackward0>)"
      ]
     },
     "execution_count": 33,
     "metadata": {},
     "output_type": "execute_result"
    }
   ],
   "execution_count": 33
  },
  {
   "cell_type": "code",
   "id": "1926d265-a5b2-411b-b3ab-064097822660",
   "metadata": {
    "ExecuteTime": {
     "end_time": "2025-09-10T10:27:58.831019Z",
     "start_time": "2025-09-10T10:27:58.827291Z"
    }
   },
   "source": [
    "# 旋转\n",
    "q_per_token_as_complex_numbers_rotated = q_per_token_as_complex_numbers * freqs_cis.to(device)\n",
    "print(q_per_token_as_complex_numbers_rotated.shape)"
   ],
   "outputs": [
    {
     "name": "stdout",
     "output_type": "stream",
     "text": [
      "torch.Size([17, 64])\n"
     ]
    }
   ],
   "execution_count": 34
  },
  {
   "cell_type": "code",
   "id": "bbb96222-0dd2-44c0-a012-096872ecd07f",
   "metadata": {
    "ExecuteTime": {
     "end_time": "2025-09-10T10:27:58.888538Z",
     "start_time": "2025-09-10T10:27:58.884698Z"
    }
   },
   "source": [
    "# 返回成对的 query\n",
    "q_per_token_split_into_pairs_rotated = torch.view_as_real(q_per_token_as_complex_numbers_rotated)\n",
    "print(q_per_token_split_into_pairs_rotated.shape)"
   ],
   "outputs": [
    {
     "name": "stdout",
     "output_type": "stream",
     "text": [
      "torch.Size([17, 64, 2])\n"
     ]
    }
   ],
   "execution_count": 35
  },
  {
   "cell_type": "code",
   "id": "69d0d6da-db20-4655-b116-fc48328a6077",
   "metadata": {
    "ExecuteTime": {
     "end_time": "2025-09-10T10:27:58.942190Z",
     "start_time": "2025-09-10T10:27:58.938791Z"
    }
   },
   "source": [
    "# 合并成 query 向量\n",
    "q_per_token_rotated = q_per_token_split_into_pairs_rotated.view(q_per_token.shape)\n",
    "print(q_per_token_rotated.shape)"
   ],
   "outputs": [
    {
     "name": "stdout",
     "output_type": "stream",
     "text": [
      "torch.Size([17, 128])\n"
     ]
    }
   ],
   "execution_count": 36
  },
  {
   "cell_type": "markdown",
   "id": "b05e1661-daad-4f49-9250-2cb0fdcc9af7",
   "metadata": {},
   "source": [
    "## 计算 key"
   ]
  },
  {
   "metadata": {
    "ExecuteTime": {
     "end_time": "2025-09-10T10:27:58.999658Z",
     "start_time": "2025-09-10T10:27:58.995838Z"
    }
   },
   "cell_type": "code",
   "source": [
    "k_layer0 = model[\"model.layers.0.self_attn.k_proj.weight\"]\n",
    "print(k_layer0.shape)\n",
    "k_layer0 = k_layer0.view(n_kv_heads, k_layer0.shape[0] // n_kv_heads, dim)\n",
    "print(k_layer0.shape)"
   ],
   "id": "6707e9d5836c2b2f",
   "outputs": [
    {
     "name": "stdout",
     "output_type": "stream",
     "text": [
      "torch.Size([1024, 3072])\n",
      "torch.Size([8, 128, 3072])\n"
     ]
    }
   ],
   "execution_count": 37
  },
  {
   "metadata": {
    "ExecuteTime": {
     "end_time": "2025-09-10T10:27:59.055268Z",
     "start_time": "2025-09-10T10:27:59.051838Z"
    }
   },
   "cell_type": "code",
   "source": [
    "k_layer0_head0 = k_layer0[0]\n",
    "print(k_layer0_head0.shape)"
   ],
   "id": "42b7185990d3f7e2",
   "outputs": [
    {
     "name": "stdout",
     "output_type": "stream",
     "text": [
      "torch.Size([128, 3072])\n"
     ]
    }
   ],
   "execution_count": 38
  },
  {
   "metadata": {
    "ExecuteTime": {
     "end_time": "2025-09-10T10:27:59.110740Z",
     "start_time": "2025-09-10T10:27:59.106165Z"
    }
   },
   "cell_type": "code",
   "source": [
    "k_per_token = torch.matmul(token_embeddings, k_layer0_head0.T)\n",
    "k_per_token.shape"
   ],
   "id": "95d771f9ba1ba6a7",
   "outputs": [
    {
     "data": {
      "text/plain": [
       "torch.Size([17, 128])"
      ]
     },
     "execution_count": 39,
     "metadata": {},
     "output_type": "execute_result"
    }
   ],
   "execution_count": 39
  },
  {
   "metadata": {
    "ExecuteTime": {
     "end_time": "2025-09-10T10:27:59.169359Z",
     "start_time": "2025-09-10T10:27:59.165706Z"
    }
   },
   "cell_type": "code",
   "source": [
    "k_per_token_split_into_pairs = k_per_token.float().view(k_per_token.shape[0], -1, 2)\n",
    "print(k_per_token_split_into_pairs.shape)"
   ],
   "id": "c333ebbfa8afb9bb",
   "outputs": [
    {
     "name": "stdout",
     "output_type": "stream",
     "text": [
      "torch.Size([17, 64, 2])\n"
     ]
    }
   ],
   "execution_count": 40
  },
  {
   "metadata": {
    "ExecuteTime": {
     "end_time": "2025-09-10T10:27:59.224717Z",
     "start_time": "2025-09-10T10:27:59.222210Z"
    }
   },
   "cell_type": "code",
   "source": [
    "k_per_token_as_complex_numbers = torch.view_as_complex(k_per_token_split_into_pairs)\n",
    "print(k_per_token_as_complex_numbers.shape)"
   ],
   "id": "7de4cd0cc2c9652",
   "outputs": [
    {
     "name": "stdout",
     "output_type": "stream",
     "text": [
      "torch.Size([17, 64])\n"
     ]
    }
   ],
   "execution_count": 41
  },
  {
   "metadata": {
    "ExecuteTime": {
     "end_time": "2025-09-10T10:27:59.281420Z",
     "start_time": "2025-09-10T10:27:59.278204Z"
    }
   },
   "cell_type": "code",
   "source": [
    "k_per_token_split_into_pairs_rotated = torch.view_as_real(k_per_token_as_complex_numbers * freqs_cis.to(device))\n",
    "print(k_per_token_split_into_pairs_rotated.shape)"
   ],
   "id": "b9fbd63048747c59",
   "outputs": [
    {
     "name": "stdout",
     "output_type": "stream",
     "text": [
      "torch.Size([17, 64, 2])\n"
     ]
    }
   ],
   "execution_count": 42
  },
  {
   "metadata": {
    "ExecuteTime": {
     "end_time": "2025-09-10T10:27:59.336361Z",
     "start_time": "2025-09-10T10:27:59.333655Z"
    }
   },
   "cell_type": "code",
   "source": [
    "k_per_token_rotated = k_per_token_split_into_pairs_rotated.view(k_per_token.shape)\n",
    "print(k_per_token_rotated.shape)"
   ],
   "id": "a81b1c70f5b4e8ef",
   "outputs": [
    {
     "name": "stdout",
     "output_type": "stream",
     "text": [
      "torch.Size([17, 128])\n"
     ]
    }
   ],
   "execution_count": 43
  },
  {
   "metadata": {},
   "cell_type": "markdown",
   "source": "## Multiply query and key",
   "id": "58e0dd5504368d4f"
  },
  {
   "metadata": {
    "ExecuteTime": {
     "end_time": "2025-09-10T10:27:59.395517Z",
     "start_time": "2025-09-10T10:27:59.391143Z"
    }
   },
   "cell_type": "code",
   "source": [
    "qk_per_token = torch.matmul(q_per_token_rotated, k_per_token_rotated.T) / (head_dim ** 0.5)\n",
    "print(qk_per_token.shape)"
   ],
   "id": "8873044b6b382ae",
   "outputs": [
    {
     "name": "stdout",
     "output_type": "stream",
     "text": [
      "torch.Size([17, 17])\n"
     ]
    }
   ],
   "execution_count": 44
  },
  {
   "metadata": {},
   "cell_type": "markdown",
   "source": "## Attention Mask",
   "id": "aeb0efe185412306"
  },
  {
   "metadata": {
    "ExecuteTime": {
     "end_time": "2025-09-10T10:27:59.454022Z",
     "start_time": "2025-09-10T10:27:59.449187Z"
    }
   },
   "cell_type": "code",
   "source": [
    "# Chinese font for matplotlib\n",
    "import matplotlib.font_manager as fm\n",
    "fm.fontManager.addfont(\"/usr/share/fonts/truetype/wqy/wqy-zenhei.ttc\")\n",
    "fm.fontManager.addfont(\"/usr/share/fonts/truetype/wqy/wqy-microhei.ttc\")"
   ],
   "id": "6cbb082d140200ef",
   "outputs": [],
   "execution_count": 45
  },
  {
   "metadata": {
    "ExecuteTime": {
     "end_time": "2025-09-10T10:27:59.516279Z",
     "start_time": "2025-09-10T10:27:59.511426Z"
    }
   },
   "cell_type": "code",
   "source": [
    "# List Chinese fonts\n",
    "fonts = sorted(set(f.name for f in fm.fontManager.ttflist))\n",
    "for f in fonts[:50]:  # show first 50\n",
    "    if \"wenquanyi\" in f.lower():\n",
    "        print(f)"
   ],
   "id": "225f32257e394d9c",
   "outputs": [
    {
     "name": "stdout",
     "output_type": "stream",
     "text": [
      "WenQuanYi Micro Hei\n",
      "WenQuanYi Zen Hei\n"
     ]
    }
   ],
   "execution_count": 46
  },
  {
   "metadata": {
    "ExecuteTime": {
     "end_time": "2025-09-10T10:27:59.765691Z",
     "start_time": "2025-09-10T10:27:59.571458Z"
    }
   },
   "cell_type": "code",
   "source": [
    "def display_qk_heat_map(qk_per_token):\n",
    "    # handle Chinese characters display issue\n",
    "    plt.rcParams[\"font.family\"] = [\"WenQuanYi Zen Hei\"]\n",
    "    plt.rcParams[\"axes.unicode_minus\"] = False\n",
    "    plt.ion()\n",
    "\n",
    "    _, ax = plt.subplots()\n",
    "    im = ax.imshow(qk_per_token.to(\"cpu\").to(torch.float).detach(), cmap=\"viridis\")\n",
    "    ax.set_xticks(range(len(prompt_split_as_tokens)))\n",
    "    ax.set_yticks(range(len(prompt_split_as_tokens)))\n",
    "    ax.set_xticklabels(prompt_split_as_tokens)\n",
    "    ax.set_yticklabels(prompt_split_as_tokens)\n",
    "    ax.figure.colorbar(im, ax=ax)\n",
    "\n",
    "display_qk_heat_map(qk_per_token)"
   ],
   "id": "62f9d0ca84cec290",
   "outputs": [
    {
     "data": {
      "text/plain": [
       "<Figure size 640x480 with 2 Axes>"
      ],
      "image/png": "[encoded data removed]"
     },
     "metadata": {},
     "output_type": "display_data",
     "jetTransient": {
      "display_id": null
     }
    }
   ],
   "execution_count": 47
  },
  {
   "metadata": {
    "ExecuteTime": {
     "end_time": "2025-09-10T10:27:59.782978Z",
     "start_time": "2025-09-10T10:27:59.776997Z"
    }
   },
   "cell_type": "code",
   "source": [
    "# mask matrix\n",
    "mask = torch.full((len(tokens), len(tokens)), float(\"-inf\"), device=tokens.device)\n",
    "mask = torch.triu(mask, diagonal=1)\n",
    "print(mask)\n",
    "print(mask.shape)"
   ],
   "id": "84787a71027639cc",
   "outputs": [
    {
     "name": "stdout",
     "output_type": "stream",
     "text": [
      "tensor([[0., -inf, -inf, -inf, -inf, -inf, -inf, -inf, -inf, -inf, -inf, -inf, -inf, -inf, -inf, -inf, -inf],\n",
      "        [0., 0., -inf, -inf, -inf, -inf, -inf, -inf, -inf, -inf, -inf, -inf, -inf, -inf, -inf, -inf, -inf],\n",
      "        [0., 0., 0., -inf, -inf, -inf, -inf, -inf, -inf, -inf, -inf, -inf, -inf, -inf, -inf, -inf, -inf],\n",
      "        [0., 0., 0., 0., -inf, -inf, -inf, -inf, -inf, -inf, -inf, -inf, -inf, -inf, -inf, -inf, -inf],\n",
      "        [0., 0., 0., 0., 0., -inf, -inf, -inf, -inf, -inf, -inf, -inf, -inf, -inf, -inf, -inf, -inf],\n",
      "        [0., 0., 0., 0., 0., 0., -inf, -inf, -inf, -inf, -inf, -inf, -inf, -inf, -inf, -inf, -inf],\n",
      "        [0., 0., 0., 0., 0., 0., 0., -inf, -inf, -inf, -inf, -inf, -inf, -inf, -inf, -inf, -inf],\n",
      "        [0., 0., 0., 0., 0., 0., 0., 0., -inf, -inf, -inf, -inf, -inf, -inf, -inf, -inf, -inf],\n",
      "        [0., 0., 0., 0., 0., 0., 0., 0., 0., -inf, -inf, -inf, -inf, -inf, -inf, -inf, -inf],\n",
      "        [0., 0., 0., 0., 0., 0., 0., 0., 0., 0., -inf, -inf, -inf, -inf, -inf, -inf, -inf],\n",
      "        [0., 0., 0., 0., 0., 0., 0., 0., 0., 0., 0., -inf, -inf, -inf, -inf, -inf, -inf],\n",
      "        [0., 0., 0., 0., 0., 0., 0., 0., 0., 0., 0., 0., -inf, -inf, -inf, -inf, -inf],\n",
      "        [0., 0., 0., 0., 0., 0., 0., 0., 0., 0., 0., 0., 0., -inf, -inf, -inf, -inf],\n",
      "        [0., 0., 0., 0., 0., 0., 0., 0., 0., 0., 0., 0., 0., 0., -inf, -inf, -inf],\n",
      "        [0., 0., 0., 0., 0., 0., 0., 0., 0., 0., 0., 0., 0., 0., 0., -inf, -inf],\n",
      "        [0., 0., 0., 0., 0., 0., 0., 0., 0., 0., 0., 0., 0., 0., 0., 0., -inf],\n",
      "        [0., 0., 0., 0., 0., 0., 0., 0., 0., 0., 0., 0., 0., 0., 0., 0., 0.]])\n",
      "torch.Size([17, 17])\n"
     ]
    }
   ],
   "execution_count": 48
  },
  {
   "metadata": {
    "ExecuteTime": {
     "end_time": "2025-09-10T10:29:19.323298Z",
     "start_time": "2025-09-10T10:29:19.148Z"
    }
   },
   "cell_type": "code",
   "source": [
    "qk_per_token_after_masking = qk_per_token.to(\"cpu\") + mask\n",
    "display_qk_heat_map(qk_per_token_after_masking)"
   ],
   "id": "92ca40d25c62b995",
   "outputs": [
    {
     "data": {
      "text/plain": [
       "<Figure size 640x480 with 2 Axes>"
      ],
      "image/png": "[encoded data removed]"
     },
     "metadata": {},
     "output_type": "display_data",
     "jetTransient": {
      "display_id": null
     }
    }
   ],
   "execution_count": 50
  },
  {
   "metadata": {
    "ExecuteTime": {
     "end_time": "2025-09-10T11:11:35.761293Z",
     "start_time": "2025-09-10T11:11:35.591806Z"
    }
   },
   "cell_type": "code",
   "source": [
    "qk_per_token_after_masking_after_softmax = torch.softmax(qk_per_token_after_masking, dim=1).to(torch.bfloat16)\n",
    "display_qk_heat_map(qk_per_token_after_masking_after_softmax)"
   ],
   "id": "4acad9dbeb5ad67",
   "outputs": [
    {
     "data": {
      "text/plain": [
       "<Figure size 640x480 with 2 Axes>"
      ],
      "image/png": "[encoded data removed]"
     },
     "metadata": {},
     "output_type": "display_data",
     "jetTransient": {
      "display_id": null
     }
    }
   ],
   "execution_count": 70
  },
  {
   "metadata": {},
   "cell_type": "markdown",
   "source": "# Calculate Value",
   "id": "d603e8480c4870d7"
  },
  {
   "metadata": {
    "ExecuteTime": {
     "end_time": "2025-09-10T10:35:53.115116Z",
     "start_time": "2025-09-10T10:35:53.110801Z"
    }
   },
   "cell_type": "code",
   "source": [
    "v_layer0 = model[\"model.layers.0.self_attn.v_proj.weight\"]\n",
    "print(v_layer0.shape)\n",
    "v_layer0 = v_layer0.view(n_kv_heads, v_layer0.shape[0] // n_kv_heads, dim)\n",
    "print(v_layer0.shape)"
   ],
   "id": "4db813bcf7c0851f",
   "outputs": [
    {
     "name": "stdout",
     "output_type": "stream",
     "text": [
      "torch.Size([1024, 3072])\n",
      "torch.Size([8, 128, 3072])\n"
     ]
    }
   ],
   "execution_count": 57
  },
  {
   "metadata": {
    "ExecuteTime": {
     "end_time": "2025-09-10T10:37:11.788852Z",
     "start_time": "2025-09-10T10:37:11.785234Z"
    }
   },
   "cell_type": "code",
   "source": [
    "v_layer0_head0 = v_layer0[0]\n",
    "print(v_layer0_head0.shape)"
   ],
   "id": "f4c8f235fbb3e4f1",
   "outputs": [
    {
     "name": "stdout",
     "output_type": "stream",
     "text": [
      "torch.Size([128, 3072])\n"
     ]
    }
   ],
   "execution_count": 59
  },
  {
   "metadata": {
    "ExecuteTime": {
     "end_time": "2025-09-10T10:40:23.338653Z",
     "start_time": "2025-09-10T10:40:23.333229Z"
    }
   },
   "cell_type": "code",
   "source": [
    "v_per_token = torch.matmul(token_embeddings, v_layer0_head0.T)\n",
    "print(v_per_token.shape)"
   ],
   "id": "e972fb6557b88fcb",
   "outputs": [
    {
     "name": "stdout",
     "output_type": "stream",
     "text": [
      "torch.Size([17, 128])\n"
     ]
    }
   ],
   "execution_count": 61
  },
  {
   "metadata": {
    "ExecuteTime": {
     "end_time": "2025-09-10T10:48:07.114590Z",
     "start_time": "2025-09-10T10:48:07.104934Z"
    }
   },
   "cell_type": "code",
   "source": [
    "qv_attention = torch.matmul(qk_per_token_after_masking_after_softmax.to(device), v_per_token)\n",
    "print(qv_attention.shape)"
   ],
   "id": "45424e4d608368e",
   "outputs": [
    {
     "name": "stdout",
     "output_type": "stream",
     "text": [
      "torch.Size([17, 128])\n"
     ]
    }
   ],
   "execution_count": 68
  },
  {
   "metadata": {},
   "cell_type": "markdown",
   "source": "# Multi-Head Attention",
   "id": "17819383e147317e"
  },
  {
   "metadata": {
    "ExecuteTime": {
     "end_time": "2025-09-10T11:38:57.632907Z",
     "start_time": "2025-09-10T11:38:57.575758Z"
    }
   },
   "cell_type": "code",
   "source": [
    "qkv_attention_store = []\n",
    "for head in range(n_heads):\n",
    "    # Q\n",
    "    q_layer0_head = q_layer0[head]\n",
    "    q_per_token = torch.matmul(token_embeddings, q_layer0_head.T)\n",
    "    q_per_token_split_into_pairs = q_per_token.float().view(q_per_token.shape[0], -1, 2)\n",
    "    q_per_token_as_complex_numbers = torch.view_as_complex(q_per_token_split_into_pairs)\n",
    "    q_per_token_as_complex_numbers_rotated = q_per_token_as_complex_numbers * freqs_cis.to(device)\n",
    "    q_per_token_split_into_pairs_rotated = torch.view_as_real(q_per_token_as_complex_numbers_rotated)\n",
    "    q_per_token_rotated = q_per_token_split_into_pairs_rotated.view(q_per_token.shape)\n",
    "\n",
    "    # K\n",
    "    k_layer0_head = k_layer0[head // group_heads]\n",
    "    k_per_token = torch.matmul(token_embeddings, k_layer0_head.T)\n",
    "    k_per_token_split_into_pairs = k_per_token.float().view(k_per_token.shape[0], -1, 2)\n",
    "    k_per_token_as_complex_numbers = torch.view_as_complex(k_per_token_split_into_pairs)\n",
    "    k_per_token_as_complex_numbers_rotated = k_per_token_as_complex_numbers * freqs_cis.to(device)\n",
    "    k_per_token_split_into_pairs_rotated = torch.view_as_real(k_per_token_as_complex_numbers_rotated)\n",
    "    k_per_token_rotated = k_per_token_split_into_pairs_rotated.view(k_per_token.shape)\n",
    "\n",
    "    # QK\n",
    "    mask = torch.full((len(tokens), len(tokens)), float(\"-inf\"), device=tokens.device)\n",
    "    mask = torch.triu(mask, diagonal=1)\n",
    "    qk_per_token = torch.matmul(q_per_token_rotated, k_per_token_rotated.T) / (head_dim ** 0.5)\n",
    "    qk_per_token_after_masking = qk_per_token + mask.to(device)\n",
    "    qk_per_token_after_masking_after_softmax = torch.softmax(qk_per_token_after_masking, dim=1).to(torch.bfloat16)\n",
    "\n",
    "    # V\n",
    "    v_layer0_head = v_layer0[head // group_heads]\n",
    "    v_per_token = torch.matmul(token_embeddings, v_layer0_head.T)\n",
    "\n",
    "    # Attention\n",
    "    qv_attention = torch.matmul(qk_per_token_after_masking_after_softmax, v_per_token)\n",
    "\n",
    "    qkv_attention_store.append(qv_attention)\n",
    "\n",
    "qkv_attention_store"
   ],
   "id": "4eb37a9b780fb2bc",
   "outputs": [
    {
     "data": {
      "text/plain": [
       "[tensor([[ 2.0294e-03, -2.8381e-03,  1.2695e-02,  ..., -6.1951e-03,\n",
       "          -1.6632e-03,  4.8340e-02],\n",
       "         [ 2.6245e-03, -2.7008e-03,  1.3489e-02,  ..., -6.4087e-03,\n",
       "          -1.0529e-03,  4.8096e-02],\n",
       "         [ 3.2043e-03, -3.2959e-03,  1.2878e-02,  ..., -6.9885e-03,\n",
       "          -7.8201e-04,  4.7363e-02],\n",
       "         ...,\n",
       "         [-4.0588e-03, -1.9531e-03,  1.5503e-02,  ..., -3.1433e-03,\n",
       "           3.5095e-04,  5.1758e-02],\n",
       "         [-4.0894e-03, -1.3351e-03,  1.9043e-02,  ...,  3.9673e-04,\n",
       "           1.3962e-03,  4.5654e-02],\n",
       "         [-2.8229e-03, -2.1515e-03,  1.5625e-02,  ..., -2.6550e-03,\n",
       "          -9.3937e-05,  4.9805e-02]], device='cuda:0', dtype=torch.bfloat16,\n",
       "        grad_fn=<MmBackward0>),\n",
       " tensor([[ 2.0294e-03, -2.8381e-03,  1.2695e-02,  ..., -6.1951e-03,\n",
       "          -1.6632e-03,  4.8340e-02],\n",
       "         [ 1.3367e-02, -7.7248e-05,  2.7344e-02,  ..., -1.0315e-02,\n",
       "           9.9487e-03,  4.2725e-02],\n",
       "         [ 2.1851e-02, -1.7456e-02,  2.9602e-03,  ..., -2.3193e-02,\n",
       "           1.0071e-02,  3.1738e-02],\n",
       "         ...,\n",
       "         [-2.1362e-02, -2.3499e-03,  1.0803e-02,  ...,  5.4626e-03,\n",
       "          -2.4261e-03,  5.5176e-02],\n",
       "         [-1.4526e-02, -1.4801e-03,  2.5024e-02,  ...,  1.2329e-02,\n",
       "           4.6997e-03,  4.6875e-02],\n",
       "         [-9.0332e-03,  4.3335e-03,  3.0762e-02,  ...,  1.4709e-02,\n",
       "          -4.3488e-04, -1.7456e-02]], device='cuda:0', dtype=torch.bfloat16,\n",
       "        grad_fn=<MmBackward0>),\n",
       " tensor([[ 0.0020, -0.0028,  0.0127,  ..., -0.0062, -0.0017,  0.0483],\n",
       "         [ 0.0029, -0.0026,  0.0139,  ..., -0.0065, -0.0007,  0.0479],\n",
       "         [ 0.0027, -0.0033,  0.0125,  ..., -0.0067, -0.0012,  0.0479],\n",
       "         ...,\n",
       "         [-0.0177, -0.0023,  0.0148,  ...,  0.0024,  0.0008,  0.0645],\n",
       "         [-0.0140, -0.0030,  0.0190,  ...,  0.0091,  0.0018,  0.0408],\n",
       "         [-0.0034, -0.0002,  0.0190,  ...,  0.0012, -0.0005,  0.0322]],\n",
       "        device='cuda:0', dtype=torch.bfloat16, grad_fn=<MmBackward0>),\n",
       " tensor([[-1.6022e-03, -1.1902e-03, -6.1989e-05,  ...,  8.6427e-06,\n",
       "           1.6861e-03, -6.4468e-04],\n",
       "         [-5.8899e-03,  3.0518e-04, -2.1667e-03,  ...,  2.4109e-03,\n",
       "           5.7220e-04,  1.7471e-03],\n",
       "         [-3.1128e-03, -6.6757e-05,  1.1349e-04,  ...,  1.1978e-03,\n",
       "           7.2479e-04,  3.3875e-03],\n",
       "         ...,\n",
       "         [ 1.4954e-03,  8.3008e-03,  7.2479e-04,  ...,  7.7820e-04,\n",
       "           7.6294e-06,  5.6152e-03],\n",
       "         [ 1.6602e-02,  2.0264e-02,  5.3711e-03,  ...,  5.1880e-03,\n",
       "          -5.2185e-03,  1.5015e-02],\n",
       "         [-4.5776e-04,  1.0071e-02,  5.6152e-03,  ...,  1.5793e-03,\n",
       "          -6.9046e-04,  2.9755e-03]], device='cuda:0', dtype=torch.bfloat16,\n",
       "        grad_fn=<MmBackward0>),\n",
       " tensor([[-1.6022e-03, -1.1902e-03, -6.1989e-05,  ...,  8.6427e-06,\n",
       "           1.6861e-03, -6.4468e-04],\n",
       "         [-5.1270e-03,  3.8624e-05, -1.7929e-03,  ...,  1.9836e-03,\n",
       "           7.7057e-04,  1.3199e-03],\n",
       "         [-6.1951e-03,  1.8158e-03, -1.8597e-04,  ...,  3.4027e-03,\n",
       "          -8.4686e-04,  9.3994e-03],\n",
       "         ...,\n",
       "         [ 3.7537e-03,  1.4404e-02, -4.7302e-04,  ...,  7.9346e-04,\n",
       "           3.2043e-04,  8.9722e-03],\n",
       "         [ 1.8921e-02,  2.3926e-02,  2.3804e-03,  ...,  3.1586e-03,\n",
       "           0.0000e+00,  1.7334e-02],\n",
       "         [-3.8300e-03,  1.6602e-02,  9.5215e-03,  ...,  1.4267e-03,\n",
       "          -4.8828e-04,  1.3351e-03]], device='cuda:0', dtype=torch.bfloat16,\n",
       "        grad_fn=<MmBackward0>),\n",
       " tensor([[-1.6022e-03, -1.1902e-03, -6.1989e-05,  ...,  8.6427e-06,\n",
       "           1.6861e-03, -6.4468e-04],\n",
       "         [-6.6833e-03,  5.8365e-04, -2.5635e-03,  ...,  2.8687e-03,\n",
       "           3.6430e-04,  2.1973e-03],\n",
       "         [-3.1281e-03,  1.9455e-04,  5.0354e-04,  ...,  1.3504e-03,\n",
       "           4.7684e-04,  4.7607e-03],\n",
       "         ...,\n",
       "         [ 2.5635e-03,  8.4229e-03,  1.0300e-04,  ...,  1.5564e-03,\n",
       "           4.0436e-04,  4.5471e-03],\n",
       "         [ 1.7212e-02,  2.2705e-02,  7.0801e-03,  ...,  5.0659e-03,\n",
       "          -3.7231e-03,  1.6968e-02],\n",
       "         [-4.3945e-03,  2.6367e-02,  6.9580e-03,  ...,  1.3580e-03,\n",
       "           1.3046e-03,  2.8076e-03]], device='cuda:0', dtype=torch.bfloat16,\n",
       "        grad_fn=<MmBackward0>),\n",
       " tensor([[-1.3733e-03, -1.5640e-03,  4.8065e-04,  ...,  4.2725e-04,\n",
       "           1.3351e-03,  5.2643e-04],\n",
       "         [-2.8419e-04, -1.8845e-03, -3.1128e-03,  ..., -4.7922e-05,\n",
       "           1.6174e-03,  5.3711e-03],\n",
       "         [-1.0910e-03, -1.0910e-03, -3.1281e-04,  ...,  1.1139e-03,\n",
       "           9.1553e-04,  3.9673e-03],\n",
       "         ...,\n",
       "         [-1.0620e-02, -1.3962e-03,  2.6245e-03,  ..., -1.1353e-02,\n",
       "           1.5411e-03,  8.8501e-04],\n",
       "         [-2.1729e-02,  6.5918e-03,  2.5482e-03,  ..., -1.8555e-02,\n",
       "           2.0447e-03,  4.3945e-03],\n",
       "         [-9.8267e-03,  3.5400e-03, -8.3923e-05,  ..., -4.7302e-03,\n",
       "           1.2512e-03,  1.7166e-03]], device='cuda:0', dtype=torch.bfloat16,\n",
       "        grad_fn=<MmBackward0>),\n",
       " tensor([[-1.3733e-03, -1.5640e-03,  4.8065e-04,  ...,  4.2725e-04,\n",
       "           1.3351e-03,  5.2643e-04],\n",
       "         [ 1.5793e-03, -2.4414e-03, -9.2773e-03,  ..., -8.6212e-04,\n",
       "           2.0905e-03,  1.3611e-02],\n",
       "         [-4.9591e-05, -1.0376e-03, -3.6469e-03,  ...,  1.1673e-03,\n",
       "           8.6975e-04,  9.8877e-03],\n",
       "         ...,\n",
       "         [-1.6479e-02, -2.9297e-03,  4.4861e-03,  ..., -1.8433e-02,\n",
       "          -1.2283e-03,  2.0599e-03],\n",
       "         [-2.1240e-02,  6.0120e-03,  3.2349e-03,  ..., -1.9287e-02,\n",
       "          -4.5166e-03,  6.2561e-03],\n",
       "         [-2.0996e-02,  1.6602e-02, -5.1575e-03,  ..., -6.1035e-03,\n",
       "          -6.4392e-03,  2.6093e-03]], device='cuda:0', dtype=torch.bfloat16,\n",
       "        grad_fn=<MmBackward0>),\n",
       " tensor([[-1.3733e-03, -1.5640e-03,  4.8065e-04,  ...,  4.2725e-04,\n",
       "           1.3351e-03,  5.2643e-04],\n",
       "         [-6.1417e-04, -1.7853e-03, -2.0294e-03,  ...,  9.5844e-05,\n",
       "           1.5335e-03,  3.9062e-03],\n",
       "         [-7.3242e-04, -1.2970e-03, -1.5182e-03,  ...,  8.1253e-04,\n",
       "           1.0986e-03,  5.1575e-03],\n",
       "         ...,\n",
       "         [-1.8555e-02, -4.0588e-03,  3.9062e-03,  ..., -2.7954e-02,\n",
       "           6.6833e-03,  1.8921e-03],\n",
       "         [-1.9043e-02,  2.3651e-03,  3.6926e-03,  ..., -2.3804e-02,\n",
       "           6.7139e-04,  5.5542e-03],\n",
       "         [-1.1963e-02,  6.6376e-04,  1.2817e-03,  ..., -1.2817e-02,\n",
       "           2.9144e-03,  1.7090e-03]], device='cuda:0', dtype=torch.bfloat16,\n",
       "        grad_fn=<MmBackward0>),\n",
       " tensor([[-1.0452e-03, -9.6893e-04, -3.4332e-04,  ..., -1.5793e-03,\n",
       "           1.0347e-04,  1.3924e-04],\n",
       "         [-6.9427e-04, -1.1826e-03, -5.6076e-04,  ..., -1.6632e-03,\n",
       "           4.3678e-04, -2.2292e-05],\n",
       "         [-3.6240e-04, -1.5945e-03, -5.8365e-04,  ..., -1.6327e-03,\n",
       "           7.1335e-04,  5.3406e-04],\n",
       "         ...,\n",
       "         [-1.1826e-03, -9.1171e-04, -7.4005e-04,  ..., -1.3275e-03,\n",
       "           7.5912e-04,  6.5613e-04],\n",
       "         [-8.2016e-04, -6.9618e-05, -2.4109e-03,  ..., -2.3651e-03,\n",
       "           1.9836e-03,  1.4420e-03],\n",
       "         [-1.2817e-03, -1.2970e-03, -9.4986e-04,  ..., -1.4801e-03,\n",
       "           9.7275e-04,  1.1978e-03]], device='cuda:0', dtype=torch.bfloat16,\n",
       "        grad_fn=<MmBackward0>),\n",
       " tensor([[-1.0452e-03, -9.6893e-04, -3.4332e-04,  ..., -1.5793e-03,\n",
       "           1.0347e-04,  1.3924e-04],\n",
       "         [-7.3624e-04, -1.1597e-03, -5.3406e-04,  ..., -1.6479e-03,\n",
       "           3.9673e-04, -3.1590e-06],\n",
       "         [-8.9264e-04, -1.1215e-03, -3.8147e-04,  ..., -1.5793e-03,\n",
       "           2.3556e-04,  2.8229e-04],\n",
       "         ...,\n",
       "         [-1.1444e-03, -9.6893e-04, -6.6757e-04,  ..., -1.2436e-03,\n",
       "           6.3324e-04,  6.0272e-04],\n",
       "         [-7.5531e-04,  7.9155e-05, -3.0975e-03,  ..., -1.6861e-03,\n",
       "           2.0447e-03,  1.6174e-03],\n",
       "         [-1.0452e-03, -1.0147e-03, -6.5613e-04,  ..., -1.4343e-03,\n",
       "           4.6539e-04,  4.9591e-04]], device='cuda:0', dtype=torch.bfloat16,\n",
       "        grad_fn=<MmBackward0>),\n",
       " tensor([[-1.0452e-03, -9.6893e-04, -3.4332e-04,  ..., -1.5793e-03,\n",
       "           1.0347e-04,  1.3924e-04],\n",
       "         [-1.3065e-04, -1.5335e-03, -9.1171e-04,  ..., -1.7853e-03,\n",
       "           9.7275e-04, -2.8229e-04],\n",
       "         [-6.1798e-04, -1.3733e-03, -4.8256e-04,  ..., -1.6022e-03,\n",
       "           4.8256e-04,  4.2725e-04],\n",
       "         ...,\n",
       "         [-9.7275e-04, -9.7656e-04, -5.7602e-04,  ..., -1.3580e-03,\n",
       "           5.1117e-04,  4.8447e-04],\n",
       "         [-5.7220e-05, -1.2741e-03, -2.6703e-03,  ..., -2.5330e-03,\n",
       "           1.9531e-03,  1.8768e-03],\n",
       "         [-8.9645e-04, -1.0376e-03, -6.3705e-04,  ..., -1.4267e-03,\n",
       "           4.5967e-04,  5.1117e-04]], device='cuda:0', dtype=torch.bfloat16,\n",
       "        grad_fn=<MmBackward0>),\n",
       " tensor([[ 1.0223e-03, -1.2589e-03,  6.8188e-05,  ..., -7.1526e-06,\n",
       "           1.2302e-04, -3.3188e-04],\n",
       "         [-7.6294e-04, -7.2861e-04, -2.4796e-04,  ...,  1.8692e-03,\n",
       "          -9.8419e-04,  6.6376e-04],\n",
       "         [ 6.9046e-04, -1.0223e-03,  7.9870e-06,  ...,  6.1798e-04,\n",
       "          -1.4019e-04, -2.3365e-04],\n",
       "         ...,\n",
       "         [ 2.6855e-03, -1.5869e-03, -5.8365e-04,  ..., -9.0027e-04,\n",
       "          -7.9727e-04, -5.6839e-04],\n",
       "         [ 1.6724e-02, -5.0964e-03, -3.8452e-03,  ..., -2.6550e-03,\n",
       "          -6.8665e-03,  1.9989e-03],\n",
       "         [ 2.7924e-03, -1.8539e-03, -5.6839e-04,  ..., -6.5231e-04,\n",
       "          -5.5313e-04, -4.5013e-04]], device='cuda:0', dtype=torch.bfloat16,\n",
       "        grad_fn=<MmBackward0>),\n",
       " tensor([[ 1.0223e-03, -1.2589e-03,  6.8188e-05,  ..., -7.1526e-06,\n",
       "           1.2302e-04, -3.3188e-04],\n",
       "         [-1.0223e-03, -6.4850e-04, -2.9182e-04,  ...,  2.1362e-03,\n",
       "          -1.1444e-03,  8.0872e-04],\n",
       "         [ 4.1008e-04, -7.8964e-04, -4.2915e-05,  ...,  1.2054e-03,\n",
       "          -3.7575e-04, -1.7357e-04],\n",
       "         ...,\n",
       "         [ 2.8687e-03, -2.1820e-03, -8.6594e-04,  ..., -6.8665e-04,\n",
       "          -1.0376e-03, -8.5449e-04],\n",
       "         [ 1.7822e-02, -6.3782e-03, -3.1586e-03,  ..., -3.0823e-03,\n",
       "          -7.7515e-03,  1.1444e-03],\n",
       "         [ 3.3264e-03, -2.3651e-03, -6.9809e-04,  ..., -9.3842e-04,\n",
       "          -1.0986e-03, -7.3242e-04]], device='cuda:0', dtype=torch.bfloat16,\n",
       "        grad_fn=<MmBackward0>),\n",
       " tensor([[ 1.0223e-03, -1.2589e-03,  6.8188e-05,  ..., -7.1526e-06,\n",
       "           1.2302e-04, -3.3188e-04],\n",
       "         [-7.2021e-03,  1.1826e-03, -1.3809e-03,  ...,  8.6670e-03,\n",
       "          -4.9744e-03,  4.2725e-03],\n",
       "         [-3.1586e-03,  5.9128e-04, -6.7520e-04,  ...,  5.5847e-03,\n",
       "          -2.7161e-03,  1.6174e-03],\n",
       "         ...,\n",
       "         [ 5.4932e-03, -2.6398e-03, -7.4005e-04,  ..., -1.6632e-03,\n",
       "          -2.6855e-03, -8.8882e-04],\n",
       "         [ 1.9287e-02, -5.8899e-03, -3.2043e-03,  ..., -3.8757e-03,\n",
       "          -7.9956e-03,  9.9182e-04],\n",
       "         [ 6.0120e-03, -3.3417e-03, -1.0681e-03,  ..., -1.6479e-03,\n",
       "          -2.2583e-03, -5.4550e-04]], device='cuda:0', dtype=torch.bfloat16,\n",
       "        grad_fn=<MmBackward0>),\n",
       " tensor([[-1.9455e-03, -4.9438e-03, -1.4210e-04,  ...,  2.8229e-03,\n",
       "          -1.3657e-03, -4.2534e-04],\n",
       "         [-1.3733e-03, -8.1787e-03, -9.1553e-03,  ...,  5.6458e-03,\n",
       "          -5.6076e-04,  2.7161e-03],\n",
       "         [-1.3733e-03, -2.6398e-03, -3.4637e-03,  ...,  5.2795e-03,\n",
       "          -1.4877e-03,  1.4648e-03],\n",
       "         ...,\n",
       "         [-1.2756e-02,  5.7678e-03,  2.2583e-03,  ..., -4.9133e-03,\n",
       "          -4.6387e-03, -4.8218e-03],\n",
       "         [-1.9226e-03,  9.0942e-03, -2.7618e-03,  ..., -6.8665e-04,\n",
       "          -4.8828e-03, -5.6763e-03],\n",
       "         [-2.5177e-03,  5.7220e-04, -5.4169e-04,  ..., -4.1809e-03,\n",
       "          -1.1536e-02,  9.3460e-05]], device='cuda:0', dtype=torch.bfloat16,\n",
       "        grad_fn=<MmBackward0>),\n",
       " tensor([[-1.9455e-03, -4.9438e-03, -1.4210e-04,  ...,  2.8229e-03,\n",
       "          -1.3657e-03, -4.2534e-04],\n",
       "         [-1.7166e-03, -6.2256e-03, -3.6926e-03,  ...,  3.9368e-03,\n",
       "          -1.0452e-03,  8.1635e-04],\n",
       "         [-1.8005e-03, -4.5471e-03, -1.1826e-03,  ...,  3.4637e-03,\n",
       "          -1.3657e-03,  9.8228e-05],\n",
       "         ...,\n",
       "         [-4.6387e-03,  6.0272e-04,  1.7242e-03,  ..., -2.4414e-04,\n",
       "           4.9133e-03, -6.7139e-04],\n",
       "         [ 2.8687e-03,  1.2268e-02, -3.9062e-03,  ...,  1.7548e-04,\n",
       "          -6.6528e-03, -7.0801e-03],\n",
       "         [-2.2278e-03, -1.5564e-03,  1.1826e-04,  ...,  1.1444e-03,\n",
       "           8.0490e-04,  1.0967e-04]], device='cuda:0', dtype=torch.bfloat16,\n",
       "        grad_fn=<MmBackward0>),\n",
       " tensor([[-1.9455e-03, -4.9438e-03, -1.4210e-04,  ...,  2.8229e-03,\n",
       "          -1.3657e-03, -4.2534e-04],\n",
       "         [-1.3885e-03, -8.1177e-03, -8.9111e-03,  ...,  5.5847e-03,\n",
       "          -5.8365e-04,  2.6398e-03],\n",
       "         [-6.6757e-04,  2.9297e-03, -4.7913e-03,  ...,  8.1177e-03,\n",
       "          -2.0905e-03,  3.1738e-03],\n",
       "         ...,\n",
       "         [-6.1951e-03,  1.1444e-04,  1.8768e-03,  ..., -1.2436e-03,\n",
       "           3.9062e-03, -8.3923e-05],\n",
       "         [-3.6621e-03, -5.0049e-03,  1.0834e-03,  ...,  1.2589e-03,\n",
       "           6.9885e-03,  2.5330e-03],\n",
       "         [-2.7466e-03, -4.2114e-03,  4.8065e-04,  ...,  1.8539e-03,\n",
       "           1.4954e-03,  9.0408e-04]], device='cuda:0', dtype=torch.bfloat16,\n",
       "        grad_fn=<MmBackward0>),\n",
       " tensor([[ 1.0529e-03,  1.7471e-03, -2.0752e-03,  ...,  4.1008e-04,\n",
       "          -5.3406e-04, -1.2207e-03],\n",
       "         [-2.0599e-03, -5.6839e-04, -7.9727e-04,  ..., -1.3809e-03,\n",
       "           4.1389e-04, -5.7983e-04],\n",
       "         [-9.4604e-03, -7.8583e-04,  9.0027e-04,  ...,  2.0294e-03,\n",
       "           1.1292e-02,  3.8147e-03],\n",
       "         ...,\n",
       "         [ 5.4932e-03,  6.7139e-04,  9.7656e-03,  ..., -2.2278e-03,\n",
       "           1.5015e-02,  5.7678e-03],\n",
       "         [-1.5320e-02,  1.0437e-02, -1.5381e-02,  ..., -9.1553e-05,\n",
       "           7.2937e-03, -9.1553e-03],\n",
       "         [ 5.1270e-03,  6.0120e-03, -9.7656e-03,  ..., -8.7891e-03,\n",
       "           2.8229e-03,  7.3242e-03]], device='cuda:0', dtype=torch.bfloat16,\n",
       "        grad_fn=<MmBackward0>),\n",
       " tensor([[ 0.0011,  0.0017, -0.0021,  ...,  0.0004, -0.0005, -0.0012],\n",
       "         [-0.0031, -0.0014, -0.0004,  ..., -0.0020,  0.0007, -0.0004],\n",
       "         [-0.0099, -0.0033,  0.0016,  ..., -0.0013,  0.0080,  0.0028],\n",
       "         ...,\n",
       "         [-0.0071,  0.0004, -0.0090,  ..., -0.0075,  0.0075,  0.0007],\n",
       "         [-0.0229,  0.0086, -0.0164,  ..., -0.0064,  0.0053, -0.0004],\n",
       "         [-0.0075,  0.0043, -0.0212,  ..., -0.0138,  0.0014,  0.0024]],\n",
       "        device='cuda:0', dtype=torch.bfloat16, grad_fn=<MmBackward0>),\n",
       " tensor([[ 1.0529e-03,  1.7471e-03, -2.0752e-03,  ...,  4.1008e-04,\n",
       "          -5.3406e-04, -1.2207e-03],\n",
       "         [-2.9602e-03, -1.2436e-03, -4.1962e-04,  ..., -1.9073e-03,\n",
       "           6.9427e-04, -3.9291e-04],\n",
       "         [-9.0942e-03,  3.5763e-07,  6.2561e-04,  ...,  2.9907e-03,\n",
       "           1.2085e-02,  4.0588e-03],\n",
       "         ...,\n",
       "         [-1.1292e-03,  2.6245e-03,  1.2024e-02,  ..., -3.7079e-03,\n",
       "           9.7656e-03,  4.0894e-03],\n",
       "         [-1.7090e-02,  7.9346e-03, -1.1841e-02,  ..., -3.5706e-03,\n",
       "           1.3489e-02, -2.1057e-03],\n",
       "         [ 4.3030e-03,  1.1169e-02, -2.1484e-02,  ..., -1.7334e-02,\n",
       "           1.0376e-03,  1.4526e-02]], device='cuda:0', dtype=torch.bfloat16,\n",
       "        grad_fn=<MmBackward0>),\n",
       " tensor([[-1.3199e-03, -3.1281e-04, -3.2043e-04,  ...,  7.4005e-04,\n",
       "          -2.9755e-04,  7.7248e-05],\n",
       "         [-1.2970e-03, -3.1853e-04, -3.1662e-04,  ...,  7.5912e-04,\n",
       "          -2.8801e-04,  7.4863e-05],\n",
       "         [-1.2970e-03, -3.1281e-04, -3.1853e-04,  ...,  7.7438e-04,\n",
       "          -2.7847e-04,  6.3419e-05],\n",
       "         ...,\n",
       "         [-1.3657e-03,  6.4850e-05, -4.8256e-04,  ...,  3.3379e-04,\n",
       "           1.1444e-04, -4.7684e-07],\n",
       "         [-1.4496e-03,  6.7139e-04, -7.4768e-04,  ..., -3.0518e-04,\n",
       "           7.4387e-04, -1.2398e-04],\n",
       "         [-1.3504e-03, -9.3460e-05, -4.1580e-04,  ...,  5.0735e-04,\n",
       "          -6.6757e-05,  3.3855e-05]], device='cuda:0', dtype=torch.bfloat16,\n",
       "        grad_fn=<MmBackward0>),\n",
       " tensor([[-1.3199e-03, -3.1281e-04, -3.2043e-04,  ...,  7.4005e-04,\n",
       "          -2.9755e-04,  7.7248e-05],\n",
       "         [-1.3199e-03, -3.1281e-04, -3.2043e-04,  ...,  7.4005e-04,\n",
       "          -2.9755e-04,  7.7248e-05],\n",
       "         [-1.3199e-03, -3.1281e-04, -3.2043e-04,  ...,  7.4005e-04,\n",
       "          -2.9755e-04,  7.7248e-05],\n",
       "         ...,\n",
       "         [-1.3428e-03, -1.7738e-04, -3.8147e-04,  ...,  5.9128e-04,\n",
       "          -1.6117e-04,  5.1022e-05],\n",
       "         [-2.4414e-03,  6.9580e-03, -3.4637e-03,  ..., -6.8970e-03,\n",
       "           7.5378e-03, -1.5869e-03],\n",
       "         [-1.3428e-03, -1.6212e-04, -3.8719e-04,  ...,  5.7602e-04,\n",
       "          -1.4496e-04,  4.8161e-05]], device='cuda:0', dtype=torch.bfloat16,\n",
       "        grad_fn=<MmBackward0>),\n",
       " tensor([[-1.3199e-03, -3.1281e-04, -3.2043e-04,  ...,  7.4005e-04,\n",
       "          -2.9755e-04,  7.7248e-05],\n",
       "         [-1.2817e-03, -3.2425e-04, -3.1471e-04,  ...,  7.7438e-04,\n",
       "          -2.8229e-04,  7.2956e-05],\n",
       "         [-1.3275e-03, -3.0136e-04, -3.2425e-04,  ...,  7.4768e-04,\n",
       "          -2.9182e-04,  6.4850e-05],\n",
       "         ...,\n",
       "         [-1.3504e-03, -1.6117e-04, -3.8147e-04,  ...,  5.7983e-04,\n",
       "          -1.3447e-04,  4.7922e-05],\n",
       "         [-2.2430e-03,  1.3123e-03, -8.6975e-04,  ..., -1.5259e-03,\n",
       "           5.8289e-03, -6.7520e-04],\n",
       "         [-1.3351e-03, -2.1172e-04, -3.6430e-04,  ...,  6.2943e-04,\n",
       "          -1.8120e-04,  5.9605e-05]], device='cuda:0', dtype=torch.bfloat16,\n",
       "        grad_fn=<MmBackward0>)]"
      ]
     },
     "execution_count": 81,
     "metadata": {},
     "output_type": "execute_result"
    }
   ],
   "execution_count": 81
  },
  {
   "metadata": {
    "ExecuteTime": {
     "end_time": "2025-09-10T11:41:13.622827Z",
     "start_time": "2025-09-10T11:41:13.618705Z"
    }
   },
   "cell_type": "code",
   "source": [
    "# Concatenate attentions from heads\n",
    "stacked_qkv_attention = torch.concat(qkv_attention_store, dim=-1)\n",
    "stacked_qkv_attention.shape"
   ],
   "id": "20b312a043c55f2c",
   "outputs": [
    {
     "data": {
      "text/plain": [
       "torch.Size([17, 3072])"
      ]
     },
     "execution_count": 84,
     "metadata": {},
     "output_type": "execute_result"
    }
   ],
   "execution_count": 84
  },
  {
   "metadata": {},
   "cell_type": "markdown",
   "source": "## Linear layer in Attention",
   "id": "2f24ba12b1390b51"
  },
  {
   "metadata": {
    "ExecuteTime": {
     "end_time": "2025-09-10T11:45:32.427677Z",
     "start_time": "2025-09-10T11:45:32.424795Z"
    }
   },
   "cell_type": "code",
   "source": [
    "w_layer0 = model[\"model.layers.0.self_attn.o_proj.weight\"]\n",
    "print(w_layer0.shape)"
   ],
   "id": "d56282fbfdddb974",
   "outputs": [
    {
     "name": "stdout",
     "output_type": "stream",
     "text": [
      "torch.Size([3072, 3072])\n"
     ]
    }
   ],
   "execution_count": 86
  },
  {
   "metadata": {
    "ExecuteTime": {
     "end_time": "2025-09-10T11:46:23.577239Z",
     "start_time": "2025-09-10T11:46:23.566750Z"
    }
   },
   "cell_type": "code",
   "source": [
    "embedding_delta = torch.matmul(stacked_qkv_attention, w_layer0.T)\n",
    "embedding_delta.shape"
   ],
   "id": "9083f0f96c9bf1b6",
   "outputs": [
    {
     "data": {
      "text/plain": [
       "torch.Size([17, 3072])"
      ]
     },
     "execution_count": 87,
     "metadata": {},
     "output_type": "execute_result"
    }
   ],
   "execution_count": 87
  },
  {
   "metadata": {
    "ExecuteTime": {
     "end_time": "2025-09-10T11:49:23.554612Z",
     "start_time": "2025-09-10T11:49:23.544486Z"
    }
   },
   "cell_type": "code",
   "source": [
    "embedding_after_edit = token_embeddings_unnormalized + embedding_delta\n",
    "embedding_after_edit.shape"
   ],
   "id": "e2b234f29b7224a1",
   "outputs": [
    {
     "data": {
      "text/plain": [
       "torch.Size([17, 3072])"
      ]
     },
     "execution_count": 88,
     "metadata": {},
     "output_type": "execute_result"
    }
   ],
   "execution_count": 88
  },
  {
   "metadata": {},
   "cell_type": "markdown",
   "source": "## Normalize, a Feed-forward and Residual",
   "id": "db6d2428fb761fe3"
  },
  {
   "metadata": {
    "ExecuteTime": {
     "end_time": "2025-09-10T12:01:40.594081Z",
     "start_time": "2025-09-10T12:01:40.583156Z"
    }
   },
   "cell_type": "code",
   "source": [
    "# Normalize\n",
    "embedding_after_edit_normalized = rms_norm(embedding_after_edit, model[\"model.layers.0.post_attention_layernorm.weight\"])\n",
    "embedding_after_edit_normalized.shape"
   ],
   "id": "f90dc3e23c35920c",
   "outputs": [
    {
     "data": {
      "text/plain": [
       "torch.Size([17, 3072])"
      ]
     },
     "execution_count": 89,
     "metadata": {},
     "output_type": "execute_result"
    }
   ],
   "execution_count": 89
  },
  {
   "metadata": {
    "ExecuteTime": {
     "end_time": "2025-09-10T12:30:16.824947Z",
     "start_time": "2025-09-10T12:30:16.813736Z"
    }
   },
   "cell_type": "code",
   "source": [
    "# Feed-forward\n",
    "down_proj = model[\"model.layers.0.mlp.down_proj.weight\"]\n",
    "up_proj = model[\"model.layers.0.mlp.up_proj.weight\"]\n",
    "gate_proj = model[\"model.layers.0.mlp.gate_proj.weight\"]\n",
    "\n",
    "embedding_after_swiglu = torch.functional.F.silu(torch.matmul(embedding_after_edit_normalized, gate_proj.T)) * \\\n",
    "    torch.matmul(embedding_after_edit_normalized, up_proj.T)\n",
    "\n",
    "output_after_feedforward = torch.matmul(embedding_after_swiglu, down_proj.T)\n",
    "\n",
    "output_after_feedforward.shape"
   ],
   "id": "6d775ff9e0a33ce0",
   "outputs": [
    {
     "data": {
      "text/plain": [
       "torch.Size([17, 3072])"
      ]
     },
     "execution_count": 90,
     "metadata": {},
     "output_type": "execute_result"
    }
   ],
   "execution_count": 90
  },
  {
   "metadata": {},
   "cell_type": "code",
   "outputs": [],
   "execution_count": null,
   "source": "layer0_embedding = embedding_after_edit + output_after_feedforward",
   "id": "69652e8c3229c867"
  },
  {
   "metadata": {},
   "cell_type": "code",
   "outputs": [],
   "execution_count": null,
   "source": "",
   "id": "add746f842680873"
  }
 ],
 "metadata": {
  "kernelspec": {
   "display_name": "Python 3 (ipykernel)",
   "language": "python",
   "name": "python3"
  },
  "language_info": {
   "codemirror_mode": {
    "name": "ipython",
    "version": 3
   },
   "file_extension": ".py",
   "mimetype": "text/x-python",
   "name": "python",
   "nbconvert_exporter": "python",
   "pygments_lexer": "ipython3",
   "version": "3.12.11"
  }
 },
 "nbformat": 4,
 "nbformat_minor": 5
}
